{
  "nbformat": 4,
  "nbformat_minor": 0,
  "metadata": {
    "colab": {
      "provenance": []
    },
    "kernelspec": {
      "name": "python3",
      "display_name": "Python 3"
    },
    "language_info": {
      "name": "python"
    }
  },
  "cells": [
    {
      "cell_type": "markdown",
      "source": [
        "# Python Packages and File Handling\n",
        "\n",
        "Contents:\n",
        "* Math package\n",
        "* OS package\n",
        "* Reading and writing to files\n",
        "* Writing and importing modules"
      ],
      "metadata": {
        "id": "d_tkK4vNOMT7"
      }
    },
    {
      "cell_type": "markdown",
      "source": [
        "Python has the advantage over other languages that it has a large community of users. This will help you not only when you are trying to find a solution for a problem you face, but also, there is a great chance that you will find code that other programers have written that implements a functionality you needed. This code will be made available to you through packages. Many of the data analysis and machine learning functionalities and algorithms already have implementations in open source packages that you can install and import in your project."
      ],
      "metadata": {
        "id": "w-J_iRnvO8r7"
      }
    },
    {
      "cell_type": "markdown",
      "source": [
        "## Math package\n",
        "\n",
        "This package has many functions that make it easier to do math calculations. This is an important package to learn as a data professional."
      ],
      "metadata": {
        "id": "5X5WGuAjUHeS"
      }
    },
    {
      "cell_type": "code",
      "source": [
        "import math\n",
        "\n",
        "# Calculate the square root of 16\n",
        "sqrt_result = math.sqrt(16)\n",
        "print(\"Square root of 16 is:\", sqrt_result)\n",
        "\n",
        "# Calculate the factorial of 5\n",
        "factorial_result = math.factorial(5)\n",
        "print(\"Factorial of 5 is:\", factorial_result)\n",
        "\n",
        "# Calculate the cosine of pi\n",
        "cosine_result = math.cos(math.pi)\n",
        "print(\"Cosine of pi is:\", cosine_result)"
      ],
      "metadata": {
        "id": "jH8NyD9xO74V",
        "colab": {
          "base_uri": "https://localhost:8080/"
        },
        "outputId": "740f7a3f-64a3-4a13-c327-62d0416ae2ee"
      },
      "execution_count": null,
      "outputs": [
        {
          "output_type": "stream",
          "name": "stdout",
          "text": [
            "Square root of 16 is: 4.0\n",
            "Factorial of 5 is: 120\n",
            "Cosine of pi is: -1.0\n"
          ]
        }
      ]
    },
    {
      "cell_type": "markdown",
      "source": [
        "## OS package\n",
        "\n",
        "The OS package allows you to interact with the operating system. This includes, accessing directories, creating files, and run bash scripts."
      ],
      "metadata": {
        "id": "4ljXFgJsYaBe"
      }
    },
    {
      "cell_type": "code",
      "execution_count": null,
      "metadata": {
        "colab": {
          "base_uri": "https://localhost:8080/"
        },
        "id": "C1djtYwNOBYU",
        "outputId": "2a6cb606-91b9-4601-9c11-afceaa74302a"
      },
      "outputs": [
        {
          "output_type": "stream",
          "name": "stdout",
          "text": [
            "Current working directory: /content\n"
          ]
        }
      ],
      "source": [
        "import os\n",
        "\n",
        "# Get the current working directory\n",
        "root = os.getcwd()\n",
        "print(\"Current working directory:\", root)"
      ]
    },
    {
      "cell_type": "code",
      "source": [
        "# Make a new directory\n",
        "os.mkdir('newdir')\n",
        "print(\"Directory created\")"
      ],
      "metadata": {
        "colab": {
          "base_uri": "https://localhost:8080/"
        },
        "id": "VGRFa3ROZEHq",
        "outputId": "6aede9d2-a6fe-4094-d9d8-40263a0ec21d"
      },
      "execution_count": null,
      "outputs": [
        {
          "output_type": "stream",
          "name": "stdout",
          "text": [
            "Directory created\n"
          ]
        }
      ]
    },
    {
      "cell_type": "code",
      "source": [
        "# Change the working directory\n",
        "os.chdir('newdir')\n",
        "print(os.getcwd())"
      ],
      "metadata": {
        "colab": {
          "base_uri": "https://localhost:8080/"
        },
        "id": "BMJtl8_HZE3s",
        "outputId": "3cc93a5d-8ae7-4400-a27b-c3156972dade"
      },
      "execution_count": null,
      "outputs": [
        {
          "output_type": "stream",
          "name": "stdout",
          "text": [
            "/content/newdir\n"
          ]
        }
      ]
    },
    {
      "cell_type": "code",
      "source": [
        "# Remove the directory we created\n",
        "os.chdir(root)\n",
        "os.rmdir('newdir')\n",
        "print(\"Directory removed\")"
      ],
      "metadata": {
        "colab": {
          "base_uri": "https://localhost:8080/"
        },
        "id": "UhkfCwxMZL8c",
        "outputId": "a75c8b14-3398-43af-b97e-d37672e19aaa"
      },
      "execution_count": null,
      "outputs": [
        {
          "output_type": "stream",
          "name": "stdout",
          "text": [
            "Directory removed\n"
          ]
        }
      ]
    },
    {
      "cell_type": "markdown",
      "source": [
        "## Reading and writing to files\n",
        "\n",
        "It is a very important skill to have as a data scientist; that is, the ability to work with external data sources. In some cases, you will be working with text data to train language models, translation systems, or perform any other task involving natural language processing."
      ],
      "metadata": {
        "id": "ZVK3yYqBaqUf"
      }
    },
    {
      "cell_type": "markdown",
      "source": [
        "### Reading mode"
      ],
      "metadata": {
        "id": "bMQ8Nn9Bda7a"
      }
    },
    {
      "cell_type": "code",
      "source": [
        "f = open(\"/content/example.txt\", 'r')\n",
        "content = f.read()\n",
        "print(content)\n",
        "f.close()"
      ],
      "metadata": {
        "colab": {
          "base_uri": "https://localhost:8080/"
        },
        "id": "HMjBu4pyaDSt",
        "outputId": "63c67bf7-ed01-414b-801a-376e83d74fae"
      },
      "execution_count": null,
      "outputs": [
        {
          "output_type": "stream",
          "name": "stdout",
          "text": [
            "This is the first line\n",
            "This is the second line\n",
            "\n"
          ]
        }
      ]
    },
    {
      "cell_type": "code",
      "source": [
        "f = open(\"example.txt\", 'r')\n",
        "\n",
        "for i in range(2):\n",
        "  line = f.readline()\n",
        "  print(f\"{i}>>\", line)\n",
        "\n",
        "f.close()"
      ],
      "metadata": {
        "colab": {
          "base_uri": "https://localhost:8080/"
        },
        "id": "8rx7cdq2bXTm",
        "outputId": "af698120-0bda-4876-c2de-04a4a4d63fb2"
      },
      "execution_count": null,
      "outputs": [
        {
          "output_type": "stream",
          "name": "stdout",
          "text": [
            "0>> This is the first line\n",
            "\n",
            "1>> This is the second line\n",
            "\n"
          ]
        }
      ]
    },
    {
      "cell_type": "code",
      "source": [
        "with open(\"example.txt\", 'r') as f:\n",
        "  data = f.readlines()\n",
        "\n",
        "print(data)"
      ],
      "metadata": {
        "colab": {
          "base_uri": "https://localhost:8080/"
        },
        "id": "pXdMbD8vblmj",
        "outputId": "0bcf0974-d466-4bc1-f148-e0aa397fb343"
      },
      "execution_count": null,
      "outputs": [
        {
          "output_type": "stream",
          "name": "stdout",
          "text": [
            "['This is the first line\\n', 'This is the second line\\n']\n"
          ]
        }
      ]
    },
    {
      "cell_type": "markdown",
      "source": [
        "### Writing mode"
      ],
      "metadata": {
        "id": "ZKVdb9pIdeZR"
      }
    },
    {
      "cell_type": "code",
      "source": [
        "with open(\"example.txt\", 'w') as f:\n",
        "  f.write(\"Hello World!\\n\")\n",
        "  f.write(\"This is the second line\")\n"
      ],
      "metadata": {
        "id": "RWtXSieTb8vK"
      },
      "execution_count": null,
      "outputs": []
    },
    {
      "cell_type": "code",
      "source": [
        "with open(\"example.txt\", 'w') as f:\n",
        "  print(\"Line 1\", file=f)\n",
        "  print(\"Line 2\", file=f)"
      ],
      "metadata": {
        "id": "trD1N2e8dxCM"
      },
      "execution_count": null,
      "outputs": []
    },
    {
      "cell_type": "code",
      "source": [
        "# delete the file\n",
        "os.remove(\"example.txt\")"
      ],
      "metadata": {
        "id": "zC7z6EPSd_9f"
      },
      "execution_count": null,
      "outputs": []
    },
    {
      "cell_type": "markdown",
      "source": [
        "## Writing and importing modules\n",
        "\n",
        "Often, you will write tones of lines of code. It is recommended to keep your work modular. This means, each part of your program will be stored in a separate script (module). This means, you will often need to import code across files."
      ],
      "metadata": {
        "id": "rosHCvFEfFxo"
      }
    },
    {
      "cell_type": "code",
      "source": [
        "# run this cell without changing it\n",
        "# create a file \"add_mult_mod.py\" as write two functions to it for addition and multiplication\n",
        "code = \"def add_numbers(a, b):\\n\\treturn a + b\\n\\ndef mult_numbers(a, b):\\n\\treturn a * b\\n\\n\"\n",
        "\n",
        "with open(\"add_mult_mod.py\", 'w') as f:\n",
        "  f.write(code)"
      ],
      "metadata": {
        "id": "-Qlgnzucenct"
      },
      "execution_count": null,
      "outputs": []
    },
    {
      "cell_type": "code",
      "source": [
        "import add_mult_mod\n",
        "\n",
        "sum_result = add_mult_mod.add_numbers(2, 3)\n",
        "mult_result = add_mult_mod.mult_numbers(2, 3)\n",
        "\n",
        "print(sum_result)\n",
        "print(mult_result)"
      ],
      "metadata": {
        "colab": {
          "base_uri": "https://localhost:8080/"
        },
        "id": "qDS_8bE3ghLx",
        "outputId": "f90943a7-3535-430b-e8a1-c7340b61c20f"
      },
      "execution_count": null,
      "outputs": [
        {
          "output_type": "stream",
          "name": "stdout",
          "text": [
            "5\n",
            "6\n"
          ]
        }
      ]
    },
    {
      "cell_type": "code",
      "source": [
        "import add_mult_mod as am\n",
        "\n",
        "sum_result - am.add_numbers(2, 3)\n",
        "\n",
        "print(sum_result)"
      ],
      "metadata": {
        "colab": {
          "base_uri": "https://localhost:8080/"
        },
        "id": "IrA00LcahHNB",
        "outputId": "60fb4299-605b-4967-e477-f45c395b0bf1"
      },
      "execution_count": null,
      "outputs": [
        {
          "output_type": "stream",
          "name": "stdout",
          "text": [
            "5\n"
          ]
        }
      ]
    },
    {
      "cell_type": "code",
      "source": [
        "from add_mult_mod import mult_numbers\n",
        "\n",
        "mult_result = mult_numbers(2, 3)\n",
        "\n",
        "print(mult_result)"
      ],
      "metadata": {
        "colab": {
          "base_uri": "https://localhost:8080/"
        },
        "id": "x6vEOrDqiCTG",
        "outputId": "2baed3e6-e307-453b-940c-43559b4cbd52"
      },
      "execution_count": null,
      "outputs": [
        {
          "output_type": "stream",
          "name": "stdout",
          "text": [
            "6\n"
          ]
        }
      ]
    },
    {
      "cell_type": "markdown",
      "source": [
        "#Great Job 🚀"
      ],
      "metadata": {
        "id": "Y5AFnwKppcFj"
      }
    }
  ]
}