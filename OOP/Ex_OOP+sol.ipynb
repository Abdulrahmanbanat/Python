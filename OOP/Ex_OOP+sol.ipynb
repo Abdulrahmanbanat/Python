{
  "cells": [
    {
      "cell_type": "markdown",
      "metadata": {
        "id": "jw2vWAL1Dqy2"
      },
      "source": [
        "# OOP Exercises\n",
        "**By: Mhd Shadi Hasan**\n",
        "\n",
        "**Task 1:** Create a parent class `Shape` with a method `area` that returns 0. Then, create two child classes, `Rectangle` and `Circle`. `Rectangle` has attributes `width` and `height`, `Circle` has an attribute `radius`. Override the `area` method in both child classes to calculate the area correctly (use 3.14 as an approximation for pi).\n",
        "\n",
        "**Task 2:** Expand on the previous task. Add a method `print_info` to the `Shape` class that prints out the type of shape and its area. For each child class, override this method to print the shape type (rectangle or circle), its specific attributes (width and height for rectangles, radius for circles), and its area.\n",
        "\n",
        "**Task 3:** Create a class `BankAccount` with private attributes `__account_number` and `__balance`. Provide getter methods for both (get_account_number, get_balance), and methods to deposit and withdraw money. Ensure that the `withdraw` method checks if there is enough balance before withdrawing.\n",
        "\n",
        "**Task 4:** Create a base class `Animal` that has a method `speak()` which prints `\"I don't know what I say!\"`. Then create two derived classes `Dog` and `Cat` which override the `speak()` method. The `speak()` method in the `Dog` class should print `\"Woof Woof!\"` and the `speak()` method in the `Cat` class should print `\"Meow Meow!\"`.\n",
        "\n",
        "**Task 5:** Continuing from the above task, create a function `animal_speak(animal)` which accepts an `Animal` object and calls its `speak()` method. This demonstrates polymorphism because you can pass any object of a class derived from `Animal` to this function and it will work.\n",
        "\n",
        "**Task 6:** Create a class `Car` with two attributes: `color` (public) and `__speed` (private). The class should have methods `accelerate()` which increases the speed by 10 and `get_speed()` which returns the current speed. The `__speed` attribute should be modified only through the `accelerate()` method, demonstrating the principle of encapsulation.\n",
        "\n",
        "***\n",
        "\n",
        "**P.S. ALL CODE MUST BE CLEAN, READABLE, WELL EXPLAINED, AND FOLLOWS THE PEP 8 STYLE GUIDE.**\n",
        "\n",
        "Happy coding!!"
      ]
    },
    {
      "cell_type": "code",
      "execution_count": 2,
      "metadata": {
        "id": "TiHOrRm_DkDD"
      },
      "outputs": [],
      "source": [
        "# Task1 & Task2\n",
        "\n",
        "class shape():\n",
        "  def area(self):\n",
        "    return 0\n",
        "  \n",
        "  def print_info(self):\n",
        "    print(f\"Generic Shape, Area: {self.area()}\")\n",
        "\n",
        "class rectangle(shape):\n",
        "  def __init__(self,width, hight):\n",
        "    self.width = width\n",
        "    self.hight = hight\n",
        "  \n",
        "  def area(self):\n",
        "    return self.width * self.hight\n",
        "  \n",
        "  def print_info(self):\n",
        "    print(f\"Rectangle, Width: {self.width}, Height: {self.hight}, Area: {self.area()}\")\n",
        "\n",
        "\n",
        "\n",
        "class circle(shape):\n",
        "  def __init__(self,radius):\n",
        "    self.radius = radius\n",
        "  \n",
        "  def area(self):\n",
        "    return 3.14 * self.radius **2\n",
        "  \n",
        "  def print_info(self):\n",
        "        print(f\"Circle, Radius: {self.radius}, Area: {self.area()}\")"
      ]
    },
    {
      "cell_type": "code",
      "execution_count": 3,
      "metadata": {},
      "outputs": [
        {
          "name": "stdout",
          "output_type": "stream",
          "text": [
            "Rectangle, Width: 5, Height: 6, Area: 30\n",
            "Circle, Radius: 30, Area: 2826.0\n"
          ]
        }
      ],
      "source": [
        "rec = rectangle(5,6)\n",
        "rec.print_info()\n",
        "\n",
        "circ = circle(30)\n",
        "circ.print_info()"
      ]
    },
    {
      "cell_type": "code",
      "execution_count": 4,
      "metadata": {},
      "outputs": [],
      "source": [
        "#Task3\n",
        "\n",
        "class bank_account:\n",
        "    def __init__(self, account_number, balance):\n",
        "        self.__account_number = str(account_number)  \n",
        "        self.__balance = float(balance)    \n",
        "    \n",
        "    def get_account_number(self):\n",
        "        return self.__account_number\n",
        "    \n",
        "    def get_balance(self):\n",
        "        return self.__balance\n",
        "    \n",
        "    def deposit(self, amount):\n",
        "        try:\n",
        "            amount = float(amount)\n",
        "            if amount > 0:\n",
        "                self.__balance += amount\n",
        "                return True\n",
        "            return False\n",
        "        except ValueError:\n",
        "            return False\n",
        "    \n",
        "    def withdraw(self, amount):\n",
        "        \n",
        "            amount = float(amount)\n",
        "            if amount > 0 and self.__balance >= amount:\n",
        "                self.__balance -= amount\n",
        "                return True\n",
        "            return False"
      ]
    },
    {
      "cell_type": "code",
      "execution_count": 5,
      "metadata": {},
      "outputs": [
        {
          "name": "stdout",
          "output_type": "stream",
          "text": [
            "1000.0\n",
            "1500.0\n",
            "1300.0\n",
            "1300.0\n"
          ]
        }
      ],
      "source": [
        "account = bank_account(\"123456\", 1000)\n",
        "print(account.get_balance())  \n",
        "account.deposit(500)\n",
        "print(account.get_balance())  \n",
        "account.withdraw(200)\n",
        "print(account.get_balance())  \n",
        "account.withdraw(2000)       \n",
        "print(account.get_balance()) "
      ]
    },
    {
      "cell_type": "code",
      "execution_count": 6,
      "metadata": {},
      "outputs": [],
      "source": [
        "#Task4 & Task5\n",
        "\n",
        "class Animal():\n",
        "\n",
        "  def speak(self):\n",
        "    print(\"Idon't know what I say!\")\n",
        "\n",
        "class Dog(Animal):\n",
        "\n",
        "  def speak(self):\n",
        "    print(\"Woooof Wooof Woof!\")\n",
        "\n",
        "class Cat(Animal):\n",
        "\n",
        "  def speak(self):\n",
        "    print(\"Meeeeow Meeeow Meeow\")\n",
        "\n",
        "def animal_speak(animal):\n",
        "  animal.speak()\n",
        "\n"
      ]
    },
    {
      "cell_type": "code",
      "execution_count": 7,
      "metadata": {},
      "outputs": [
        {
          "name": "stdout",
          "output_type": "stream",
          "text": [
            "Idon't know what I say!\n",
            "Woooof Wooof Woof!\n",
            "Meeeeow Meeeow Meeow\n"
          ]
        }
      ],
      "source": [
        "animal_speak(Animal())\n",
        "animal_speak(Dog())\n",
        "animal_speak(Cat())"
      ]
    },
    {
      "cell_type": "code",
      "execution_count": 8,
      "metadata": {},
      "outputs": [],
      "source": [
        "#Task6\n",
        "\n",
        "class Car():\n",
        "  def __init__(self,color, speed):\n",
        "    self.color = color\n",
        "    self.__speed = speed\n",
        "\n",
        "  def accelerate (self):\n",
        "    self.__speed +=10\n",
        "  def get_speed(self):\n",
        "    return self.__speed"
      ]
    },
    {
      "cell_type": "code",
      "execution_count": 9,
      "metadata": {},
      "outputs": [
        {
          "name": "stdout",
          "output_type": "stream",
          "text": [
            "250\n",
            "260\n",
            "Blue\n"
          ]
        }
      ],
      "source": [
        "car = Car('Blue',250)\n",
        "print(car.get_speed()) # before accelerate\n",
        "car.accelerate()\n",
        "print(car.get_speed()) # after accelerate\n",
        "print(car.color)"
      ]
    }
  ],
  "metadata": {
    "colab": {
      "provenance": []
    },
    "kernelspec": {
      "display_name": "base",
      "language": "python",
      "name": "python3"
    },
    "language_info": {
      "codemirror_mode": {
        "name": "ipython",
        "version": 3
      },
      "file_extension": ".py",
      "mimetype": "text/x-python",
      "name": "python",
      "nbconvert_exporter": "python",
      "pygments_lexer": "ipython3",
      "version": "3.12.3"
    }
  },
  "nbformat": 4,
  "nbformat_minor": 0
}
