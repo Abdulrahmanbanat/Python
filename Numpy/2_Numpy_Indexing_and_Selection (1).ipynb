{
 "cells": [
  {
   "cell_type": "markdown",
   "metadata": {
    "id": "HGOwiEFHcxLX"
   },
   "source": [
    "# Numpy Indexing and Selection\n",
    "\n",
    "In this lecture we will discuss how to select elements or groups of elements from an array.\n",
    "\n",
    "This Notebook includes the following contents:\n",
    "\n",
    "* Bracket Indexing and Selection\n",
    "* Broadcasting\n",
    "* Indexing a 2D array (matrices)\n",
    "* Fancy Indexing\n",
    "* Selection"
   ]
  },
  {
   "cell_type": "markdown",
   "metadata": {
    "id": "4HsNyNmh65OB"
   },
   "source": [
    "# Bracket Indexing and Selection"
   ]
  },
  {
   "cell_type": "markdown",
   "metadata": {
    "id": "ZM6aCNGx7KER"
   },
   "source": [
    "The simplest way to pick one or some elements of an array looks very similar to python list."
   ]
  },
  {
   "cell_type": "code",
   "execution_count": 1,
   "metadata": {
    "id": "ZqBFsINTbVPf"
   },
   "outputs": [],
   "source": [
    "import numpy as np"
   ]
  },
  {
   "cell_type": "code",
   "execution_count": 2,
   "metadata": {
    "id": "uHg917lrbVPf"
   },
   "outputs": [],
   "source": [
    "#Creating sample array\n",
    "arr = np.arange(1,11)"
   ]
  },
  {
   "cell_type": "code",
   "execution_count": 3,
   "metadata": {
    "colab": {
     "base_uri": "https://localhost:8080/"
    },
    "executionInfo": {
     "elapsed": 12,
     "status": "ok",
     "timestamp": 1752681804290,
     "user": {
      "displayName": "Sara Albashtawi",
      "userId": "03921890274498340999"
     },
     "user_tz": -180
    },
    "id": "hYL3nMCIbVPf",
    "outputId": "cd7d6645-ff71-4c66-e7a5-82c5f97e9755"
   },
   "outputs": [
    {
     "data": {
      "text/plain": [
       "array([ 1,  2,  3,  4,  5,  6,  7,  8,  9, 10])"
      ]
     },
     "execution_count": 3,
     "metadata": {},
     "output_type": "execute_result"
    }
   ],
   "source": [
    "#Show\n",
    "arr"
   ]
  },
  {
   "cell_type": "code",
   "execution_count": 4,
   "metadata": {
    "colab": {
     "base_uri": "https://localhost:8080/"
    },
    "executionInfo": {
     "elapsed": 12,
     "status": "ok",
     "timestamp": 1752681814558,
     "user": {
      "displayName": "Sara Albashtawi",
      "userId": "03921890274498340999"
     },
     "user_tz": -180
    },
    "id": "39cqQ5RSbVPg",
    "outputId": "9f4615eb-9b6d-41d8-be37-f9134c9a05d9"
   },
   "outputs": [
    {
     "data": {
      "text/plain": [
       "np.int64(9)"
      ]
     },
     "execution_count": 4,
     "metadata": {},
     "output_type": "execute_result"
    }
   ],
   "source": [
    "#Get a value at an index\n",
    "arr[8]"
   ]
  },
  {
   "cell_type": "code",
   "execution_count": 5,
   "metadata": {
    "colab": {
     "base_uri": "https://localhost:8080/"
    },
    "executionInfo": {
     "elapsed": 21,
     "status": "ok",
     "timestamp": 1752681829844,
     "user": {
      "displayName": "Sara Albashtawi",
      "userId": "03921890274498340999"
     },
     "user_tz": -180
    },
    "id": "u4z6VKd9bVPg",
    "outputId": "8620844d-4bbf-4b2c-853d-71ce6bdae91f"
   },
   "outputs": [
    {
     "data": {
      "text/plain": [
       "array([2, 3, 4, 5])"
      ]
     },
     "execution_count": 5,
     "metadata": {},
     "output_type": "execute_result"
    }
   ],
   "source": [
    "#Get values in a range\n",
    "arr[1:5]"
   ]
  },
  {
   "cell_type": "code",
   "execution_count": 6,
   "metadata": {
    "colab": {
     "base_uri": "https://localhost:8080/"
    },
    "executionInfo": {
     "elapsed": 13,
     "status": "ok",
     "timestamp": 1752681855160,
     "user": {
      "displayName": "Sara Albashtawi",
      "userId": "03921890274498340999"
     },
     "user_tz": -180
    },
    "id": "ZDHzbirWbVPg",
    "outputId": "5a2709b2-4c8f-47df-ba41-f6c6939cefd8"
   },
   "outputs": [
    {
     "data": {
      "text/plain": [
       "array([1, 2, 3, 4, 5])"
      ]
     },
     "execution_count": 6,
     "metadata": {},
     "output_type": "execute_result"
    }
   ],
   "source": [
    "#Get values in a range\n",
    "arr[0:5]"
   ]
  },
  {
   "cell_type": "code",
   "execution_count": 7,
   "metadata": {
    "colab": {
     "base_uri": "https://localhost:8080/"
    },
    "executionInfo": {
     "elapsed": 27,
     "status": "ok",
     "timestamp": 1752681863862,
     "user": {
      "displayName": "Sara Albashtawi",
      "userId": "03921890274498340999"
     },
     "user_tz": -180
    },
    "id": "1JMl8RzL5EiD",
    "outputId": "7d996c9d-02be-43d7-c027-32077c2916d4"
   },
   "outputs": [
    {
     "data": {
      "text/plain": [
       "array([ 1,  2,  3,  4,  5,  6,  7,  8,  9, 10])"
      ]
     },
     "execution_count": 7,
     "metadata": {},
     "output_type": "execute_result"
    }
   ],
   "source": [
    "arr"
   ]
  },
  {
   "cell_type": "code",
   "execution_count": 8,
   "metadata": {
    "colab": {
     "base_uri": "https://localhost:8080/"
    },
    "executionInfo": {
     "elapsed": 14,
     "status": "ok",
     "timestamp": 1752681867070,
     "user": {
      "displayName": "Sara Albashtawi",
      "userId": "03921890274498340999"
     },
     "user_tz": -180
    },
    "id": "lQcTTh1UJ8DM",
    "outputId": "6d6b15a5-b39e-4528-ccda-41b6b758b565"
   },
   "outputs": [
    {
     "data": {
      "text/plain": [
       "array([1, 3, 5, 7])"
      ]
     },
     "execution_count": 8,
     "metadata": {},
     "output_type": "execute_result"
    }
   ],
   "source": [
    "arr[0:7:2]"
   ]
  },
  {
   "cell_type": "markdown",
   "metadata": {
    "id": "Yq0I-cerbVPg"
   },
   "source": [
    "# Broadcasting"
   ]
  },
  {
   "cell_type": "markdown",
   "metadata": {
    "id": "_x6LaqCk7cs5"
   },
   "source": [
    "Numpy arrays differ from a normal Python list because of their ability to broadcast"
   ]
  },
  {
   "cell_type": "code",
   "execution_count": 9,
   "metadata": {
    "colab": {
     "base_uri": "https://localhost:8080/"
    },
    "executionInfo": {
     "elapsed": 42,
     "status": "ok",
     "timestamp": 1752681891942,
     "user": {
      "displayName": "Sara Albashtawi",
      "userId": "03921890274498340999"
     },
     "user_tz": -180
    },
    "id": "Ul_AfxcyOGJY",
    "outputId": "3b3bc463-2178-4e6e-ee3f-d1448e147caa"
   },
   "outputs": [
    {
     "data": {
      "text/plain": [
       "[1, 8, 7, 2, 5, 9]"
      ]
     },
     "execution_count": 9,
     "metadata": {},
     "output_type": "execute_result"
    }
   ],
   "source": [
    "# List\n",
    "lst = [1, 5, 7, 2, 5, 9]\n",
    "lst[1] = 8\n",
    "lst"
   ]
  },
  {
   "cell_type": "code",
   "execution_count": null,
   "metadata": {
    "colab": {
     "base_uri": "https://localhost:8080/",
     "height": 176
    },
    "executionInfo": {
     "elapsed": 66,
     "status": "error",
     "timestamp": 1752681906561,
     "user": {
      "displayName": "Sara Albashtawi",
      "userId": "03921890274498340999"
     },
     "user_tz": -180
    },
    "id": "vTpJCWtrObeT",
    "outputId": "a8cf8957-138f-4696-d7f7-0483c1f790bb"
   },
   "outputs": [],
   "source": [
    "# Error: just for clarification\n",
    "lst[1:3] = 8 # error must assign iterable to extended slice\n",
    "lst"
   ]
  },
  {
   "cell_type": "code",
   "execution_count": null,
   "metadata": {
    "colab": {
     "base_uri": "https://localhost:8080/"
    },
    "executionInfo": {
     "elapsed": 37,
     "status": "ok",
     "timestamp": 1752681915908,
     "user": {
      "displayName": "Sara Albashtawi",
      "userId": "03921890274498340999"
     },
     "user_tz": -180
    },
    "id": "7tVT6eLZ5cDh",
    "outputId": "a576c923-a24e-407c-fd24-1ec0df5fe3cb"
   },
   "outputs": [
    {
     "data": {
      "text/plain": [
       "array([ 1,  2,  3,  4,  5,  6,  7,  8,  9, 10])"
      ]
     },
     "execution_count": 11,
     "metadata": {},
     "output_type": "execute_result"
    }
   ],
   "source": [
    "arr"
   ]
  },
  {
   "cell_type": "code",
   "execution_count": null,
   "metadata": {
    "colab": {
     "base_uri": "https://localhost:8080/"
    },
    "executionInfo": {
     "elapsed": 19,
     "status": "ok",
     "timestamp": 1752681921327,
     "user": {
      "displayName": "Sara Albashtawi",
      "userId": "03921890274498340999"
     },
     "user_tz": -180
    },
    "id": "iduxMcHlbVPg",
    "outputId": "759a4155-bf1c-473c-c51f-5c9f2c2ff7b0"
   },
   "outputs": [
    {
     "data": {
      "text/plain": [
       "array([100, 100, 100, 100, 100,   6,   7,   8,   9,  10])"
      ]
     },
     "execution_count": 12,
     "metadata": {},
     "output_type": "execute_result"
    }
   ],
   "source": [
    "#Setting a value with index range (Broadcasting)\n",
    "arr[0:5]=100\n",
    "\n",
    "#Show\n",
    "arr"
   ]
  },
  {
   "cell_type": "code",
   "execution_count": null,
   "metadata": {
    "colab": {
     "base_uri": "https://localhost:8080/"
    },
    "executionInfo": {
     "elapsed": 33,
     "status": "ok",
     "timestamp": 1752681962073,
     "user": {
      "displayName": "Sara Albashtawi",
      "userId": "03921890274498340999"
     },
     "user_tz": -180
    },
    "id": "cl1rv_lSbVPh",
    "outputId": "452e21c4-7898-4ea4-bdcc-63ad77cb684b"
   },
   "outputs": [
    {
     "data": {
      "text/plain": [
       "array([ 0,  1,  2,  3,  4,  5,  6,  7,  8,  9, 10])"
      ]
     },
     "execution_count": 13,
     "metadata": {},
     "output_type": "execute_result"
    }
   ],
   "source": [
    "# Reset array\n",
    "arr = np.arange(0,11)\n",
    "\n",
    "#Show\n",
    "arr"
   ]
  },
  {
   "cell_type": "code",
   "execution_count": null,
   "metadata": {
    "colab": {
     "base_uri": "https://localhost:8080/"
    },
    "executionInfo": {
     "elapsed": 11,
     "status": "ok",
     "timestamp": 1752681991570,
     "user": {
      "displayName": "Sara Albashtawi",
      "userId": "03921890274498340999"
     },
     "user_tz": -180
    },
    "id": "WTiCCuqGbVPh",
    "outputId": "690f77b1-9f58-442d-e1eb-13832d488c43"
   },
   "outputs": [
    {
     "data": {
      "text/plain": [
       "array([0, 1, 2, 3, 4, 5])"
      ]
     },
     "execution_count": 14,
     "metadata": {},
     "output_type": "execute_result"
    }
   ],
   "source": [
    "#Important notes on Slices\n",
    "slice_of_arr = arr[0:6]\n",
    "\n",
    "#Show slice\n",
    "slice_of_arr"
   ]
  },
  {
   "cell_type": "code",
   "execution_count": null,
   "metadata": {
    "colab": {
     "base_uri": "https://localhost:8080/"
    },
    "executionInfo": {
     "elapsed": 41,
     "status": "ok",
     "timestamp": 1752682004485,
     "user": {
      "displayName": "Sara Albashtawi",
      "userId": "03921890274498340999"
     },
     "user_tz": -180
    },
    "id": "uvzdCTMzbVPh",
    "outputId": "d33e8dff-f384-432c-8783-f6b080a23f17"
   },
   "outputs": [
    {
     "data": {
      "text/plain": [
       "array([99, 99, 99, 99, 99, 99])"
      ]
     },
     "execution_count": 15,
     "metadata": {},
     "output_type": "execute_result"
    }
   ],
   "source": [
    "#Change Slice\n",
    "slice_of_arr[:]=99\n",
    "\n",
    "#Show Slice again\n",
    "slice_of_arr"
   ]
  },
  {
   "cell_type": "markdown",
   "metadata": {
    "id": "IFzqXf-_bVPh"
   },
   "source": [
    "Now note the changes also occur in our original array!"
   ]
  },
  {
   "cell_type": "code",
   "execution_count": null,
   "metadata": {
    "colab": {
     "base_uri": "https://localhost:8080/"
    },
    "executionInfo": {
     "elapsed": 6,
     "status": "ok",
     "timestamp": 1752682008947,
     "user": {
      "displayName": "Sara Albashtawi",
      "userId": "03921890274498340999"
     },
     "user_tz": -180
    },
    "id": "SQ2j9ozobVPh",
    "outputId": "672b700f-7518-41fd-91e4-a1c3f04feb49"
   },
   "outputs": [
    {
     "data": {
      "text/plain": [
       "array([99, 99, 99, 99, 99, 99,  6,  7,  8,  9, 10])"
      ]
     },
     "execution_count": 16,
     "metadata": {},
     "output_type": "execute_result"
    }
   ],
   "source": [
    "arr"
   ]
  },
  {
   "cell_type": "markdown",
   "metadata": {
    "id": "uZTJdc8XbVPh"
   },
   "source": [
    "Data is not copied, it's a view of the original array! This avoids memory problems!"
   ]
  },
  {
   "cell_type": "code",
   "execution_count": null,
   "metadata": {
    "colab": {
     "base_uri": "https://localhost:8080/"
    },
    "executionInfo": {
     "elapsed": 11,
     "status": "ok",
     "timestamp": 1752682023469,
     "user": {
      "displayName": "Sara Albashtawi",
      "userId": "03921890274498340999"
     },
     "user_tz": -180
    },
    "id": "tgBSRPsRbVPh",
    "outputId": "66462f91-f10c-4652-d768-a2273911c11c"
   },
   "outputs": [
    {
     "data": {
      "text/plain": [
       "array([99, 99, 99, 99, 99, 99,  6,  7,  8,  9, 10])"
      ]
     },
     "execution_count": 17,
     "metadata": {},
     "output_type": "execute_result"
    }
   ],
   "source": [
    "#To get a copy, need to be explicit\n",
    "arr_copy = arr.copy()\n",
    "\n",
    "arr_copy"
   ]
  },
  {
   "cell_type": "code",
   "execution_count": null,
   "metadata": {
    "colab": {
     "base_uri": "https://localhost:8080/"
    },
    "executionInfo": {
     "elapsed": 7,
     "status": "ok",
     "timestamp": 1752682030657,
     "user": {
      "displayName": "Sara Albashtawi",
      "userId": "03921890274498340999"
     },
     "user_tz": -180
    },
    "id": "vUbFWKML6Xmp",
    "outputId": "2db0ebfb-9a46-4db1-f3e9-476542338673"
   },
   "outputs": [
    {
     "data": {
      "text/plain": [
       "array([ 99, 100, 100,  99,  99,  99,   6,   7,   8,   9,  10])"
      ]
     },
     "execution_count": 18,
     "metadata": {},
     "output_type": "execute_result"
    }
   ],
   "source": [
    "arr_copy[1:3] = 100\n",
    "arr_copy"
   ]
  },
  {
   "cell_type": "code",
   "execution_count": null,
   "metadata": {
    "colab": {
     "base_uri": "https://localhost:8080/"
    },
    "executionInfo": {
     "elapsed": 8,
     "status": "ok",
     "timestamp": 1752682036110,
     "user": {
      "displayName": "Sara Albashtawi",
      "userId": "03921890274498340999"
     },
     "user_tz": -180
    },
    "id": "kTIk0FaK6hY2",
    "outputId": "872ae1fe-cbed-4964-94a9-cdc5cce0ae8d"
   },
   "outputs": [
    {
     "data": {
      "text/plain": [
       "array([99, 99, 99, 99, 99, 99,  6,  7,  8,  9, 10])"
      ]
     },
     "execution_count": 19,
     "metadata": {},
     "output_type": "execute_result"
    }
   ],
   "source": [
    "arr"
   ]
  },
  {
   "cell_type": "markdown",
   "metadata": {
    "id": "C6Ou0EJ0bVPh"
   },
   "source": [
    "# Indexing a 2D array (matrices)"
   ]
  },
  {
   "cell_type": "markdown",
   "metadata": {
    "id": "2tiZvZYg8EZU"
   },
   "source": [
    "The general format is **arr_2d[row][col]** or **arr_2d[row,col]**. I recommend usually using the comma notation for clarity."
   ]
  },
  {
   "cell_type": "code",
   "execution_count": null,
   "metadata": {
    "colab": {
     "base_uri": "https://localhost:8080/"
    },
    "executionInfo": {
     "elapsed": 10,
     "status": "ok",
     "timestamp": 1752682079017,
     "user": {
      "displayName": "Sara Albashtawi",
      "userId": "03921890274498340999"
     },
     "user_tz": -180
    },
    "id": "nt4zE2TF9dvW",
    "outputId": "679db476-70c0-44f5-afca-7a2eb98baefe"
   },
   "outputs": [
    {
     "data": {
      "text/plain": [
       "tuple"
      ]
     },
     "execution_count": 20,
     "metadata": {},
     "output_type": "execute_result"
    }
   ],
   "source": [
    "x = ([5,10,15],[20,25,30],[35,40,45])\n",
    "type(x)"
   ]
  },
  {
   "cell_type": "code",
   "execution_count": null,
   "metadata": {
    "colab": {
     "base_uri": "https://localhost:8080/"
    },
    "executionInfo": {
     "elapsed": 188,
     "status": "ok",
     "timestamp": 1752682083726,
     "user": {
      "displayName": "Sara Albashtawi",
      "userId": "03921890274498340999"
     },
     "user_tz": -180
    },
    "id": "-W-wQXIlbVPh",
    "outputId": "7bb7c709-1800-4e9c-adc8-8cd27f67688f"
   },
   "outputs": [
    {
     "data": {
      "text/plain": [
       "array([[ 5, 10, 15],\n",
       "       [20, 25, 30],\n",
       "       [35, 40, 45]])"
      ]
     },
     "execution_count": 21,
     "metadata": {},
     "output_type": "execute_result"
    }
   ],
   "source": [
    "arr_2d = np.array(([5,10,15],[20,25,30],[35,40,45]))\n",
    "\n",
    "#Show\n",
    "arr_2d"
   ]
  },
  {
   "cell_type": "code",
   "execution_count": null,
   "metadata": {
    "colab": {
     "base_uri": "https://localhost:8080/"
    },
    "executionInfo": {
     "elapsed": 11,
     "status": "ok",
     "timestamp": 1752682109874,
     "user": {
      "displayName": "Sara Albashtawi",
      "userId": "03921890274498340999"
     },
     "user_tz": -180
    },
    "id": "EElXbPpabVPi",
    "outputId": "3d93cd10-d314-4eed-c9c2-66df8a44cd63"
   },
   "outputs": [
    {
     "data": {
      "text/plain": [
       "array([ 5, 10, 15])"
      ]
     },
     "execution_count": 23,
     "metadata": {},
     "output_type": "execute_result"
    }
   ],
   "source": [
    "#Indexing row, all columns\n",
    "arr_2d[0]\n"
   ]
  },
  {
   "cell_type": "code",
   "execution_count": null,
   "metadata": {
    "colab": {
     "base_uri": "https://localhost:8080/"
    },
    "executionInfo": {
     "elapsed": 10,
     "status": "ok",
     "timestamp": 1752682115336,
     "user": {
      "displayName": "Sara Albashtawi",
      "userId": "03921890274498340999"
     },
     "user_tz": -180
    },
    "id": "MOCNijgn7Ve_",
    "outputId": "59dd9b66-2053-4733-b701-fde129da4434"
   },
   "outputs": [
    {
     "data": {
      "text/plain": [
       "np.int64(25)"
      ]
     },
     "execution_count": 24,
     "metadata": {},
     "output_type": "execute_result"
    }
   ],
   "source": [
    "arr_2d[1,1]"
   ]
  },
  {
   "cell_type": "code",
   "execution_count": null,
   "metadata": {
    "colab": {
     "base_uri": "https://localhost:8080/"
    },
    "executionInfo": {
     "elapsed": 43,
     "status": "ok",
     "timestamp": 1752682126466,
     "user": {
      "displayName": "Sara Albashtawi",
      "userId": "03921890274498340999"
     },
     "user_tz": -180
    },
    "id": "fe2wKMXy7ZAX",
    "outputId": "21212b3c-97f8-42a9-932b-d8ce6b7a24c1"
   },
   "outputs": [
    {
     "data": {
      "text/plain": [
       "np.int64(25)"
      ]
     },
     "execution_count": 25,
     "metadata": {},
     "output_type": "execute_result"
    }
   ],
   "source": [
    "arr_2d[1][1]"
   ]
  },
  {
   "cell_type": "code",
   "execution_count": null,
   "metadata": {
    "colab": {
     "base_uri": "https://localhost:8080/"
    },
    "executionInfo": {
     "elapsed": 30,
     "status": "ok",
     "timestamp": 1752682135693,
     "user": {
      "displayName": "Sara Albashtawi",
      "userId": "03921890274498340999"
     },
     "user_tz": -180
    },
    "id": "RV_pW4CN7crs",
    "outputId": "49e0f31e-8883-4486-ffa4-ef1d114c3b87"
   },
   "outputs": [
    {
     "data": {
      "text/plain": [
       "array([[ 5, 10, 15],\n",
       "       [20, 25, 30],\n",
       "       [35, 40, 45]])"
      ]
     },
     "execution_count": 26,
     "metadata": {},
     "output_type": "execute_result"
    }
   ],
   "source": [
    "arr_2d"
   ]
  },
  {
   "cell_type": "code",
   "execution_count": null,
   "metadata": {
    "colab": {
     "base_uri": "https://localhost:8080/"
    },
    "executionInfo": {
     "elapsed": 11,
     "status": "ok",
     "timestamp": 1752682141685,
     "user": {
      "displayName": "Sara Albashtawi",
      "userId": "03921890274498340999"
     },
     "user_tz": -180
    },
    "id": "jyOqagsQbVPi",
    "outputId": "b3982cdf-0cdb-4686-df8b-e306261bac35"
   },
   "outputs": [
    {
     "data": {
      "text/plain": [
       "np.int64(20)"
      ]
     },
     "execution_count": 27,
     "metadata": {},
     "output_type": "execute_result"
    }
   ],
   "source": [
    "# Format is arr_2d[row][col] or arr_2d[row,col]\n",
    "\n",
    "# Getting individual element value\n",
    "arr_2d[1][0]"
   ]
  },
  {
   "cell_type": "code",
   "execution_count": null,
   "metadata": {
    "id": "4b_XhtVmbVPi"
   },
   "outputs": [],
   "source": [
    "# Getting individual element value\n",
    "arr_2d[1,0]"
   ]
  },
  {
   "cell_type": "code",
   "execution_count": null,
   "metadata": {
    "colab": {
     "base_uri": "https://localhost:8080/"
    },
    "executionInfo": {
     "elapsed": 16,
     "status": "ok",
     "timestamp": 1752682156658,
     "user": {
      "displayName": "Sara Albashtawi",
      "userId": "03921890274498340999"
     },
     "user_tz": -180
    },
    "id": "-Ede0pYw7jLk",
    "outputId": "4bb94005-0f42-46c2-a97a-54487a38bc59"
   },
   "outputs": [
    {
     "data": {
      "text/plain": [
       "array([[ 5, 10, 15],\n",
       "       [20, 25, 30],\n",
       "       [35, 40, 45]])"
      ]
     },
     "execution_count": 29,
     "metadata": {},
     "output_type": "execute_result"
    }
   ],
   "source": [
    "arr_2d"
   ]
  },
  {
   "cell_type": "code",
   "execution_count": null,
   "metadata": {
    "colab": {
     "base_uri": "https://localhost:8080/"
    },
    "executionInfo": {
     "elapsed": 11,
     "status": "ok",
     "timestamp": 1752682153062,
     "user": {
      "displayName": "Sara Albashtawi",
      "userId": "03921890274498340999"
     },
     "user_tz": -180
    },
    "id": "rGksM7aMbVPi",
    "outputId": "eae8145b-d837-4eab-a652-44319c5d25b6"
   },
   "outputs": [
    {
     "data": {
      "text/plain": [
       "array([[10, 15],\n",
       "       [25, 30]])"
      ]
     },
     "execution_count": 28,
     "metadata": {},
     "output_type": "execute_result"
    }
   ],
   "source": [
    "# 2D array slicing\n",
    "\n",
    "#Shape (2,2) from top right corner\n",
    "arr_2d[:2,1:]"
   ]
  },
  {
   "cell_type": "code",
   "execution_count": null,
   "metadata": {
    "colab": {
     "base_uri": "https://localhost:8080/"
    },
    "executionInfo": {
     "elapsed": 41,
     "status": "ok",
     "timestamp": 1752682203874,
     "user": {
      "displayName": "Sara Albashtawi",
      "userId": "03921890274498340999"
     },
     "user_tz": -180
    },
    "id": "dmqwkDSG_SOa",
    "outputId": "11016b29-3dce-488e-ec53-5ce0a93ee749"
   },
   "outputs": [
    {
     "data": {
      "text/plain": [
       "array([[ 5, 10, 15],\n",
       "       [20, 25, 30],\n",
       "       [35, 40, 45]])"
      ]
     },
     "execution_count": 30,
     "metadata": {},
     "output_type": "execute_result"
    }
   ],
   "source": [
    "arr_2d"
   ]
  },
  {
   "cell_type": "code",
   "execution_count": null,
   "metadata": {
    "colab": {
     "base_uri": "https://localhost:8080/"
    },
    "executionInfo": {
     "elapsed": 29,
     "status": "ok",
     "timestamp": 1752682205495,
     "user": {
      "displayName": "Sara Albashtawi",
      "userId": "03921890274498340999"
     },
     "user_tz": -180
    },
    "id": "PSxS1h0cbVPi",
    "outputId": "13bd24bf-ffc3-406d-bcbb-897ddbf63add"
   },
   "outputs": [
    {
     "data": {
      "text/plain": [
       "array([35, 40, 45])"
      ]
     },
     "execution_count": 31,
     "metadata": {},
     "output_type": "execute_result"
    }
   ],
   "source": [
    "#Shape bottom row\n",
    "arr_2d[2]"
   ]
  },
  {
   "cell_type": "code",
   "execution_count": null,
   "metadata": {
    "colab": {
     "base_uri": "https://localhost:8080/"
    },
    "executionInfo": {
     "elapsed": 14,
     "status": "ok",
     "timestamp": 1752682219470,
     "user": {
      "displayName": "Sara Albashtawi",
      "userId": "03921890274498340999"
     },
     "user_tz": -180
    },
    "id": "NCmlsRd68fQf",
    "outputId": "cf8769b1-1fbf-4f05-fb6e-d65a9a999390"
   },
   "outputs": [
    {
     "data": {
      "text/plain": [
       "array([[ 5, 10, 15],\n",
       "       [20, 25, 30],\n",
       "       [35, 40, 45]])"
      ]
     },
     "execution_count": 32,
     "metadata": {},
     "output_type": "execute_result"
    }
   ],
   "source": [
    "arr_2d"
   ]
  },
  {
   "cell_type": "code",
   "execution_count": null,
   "metadata": {
    "colab": {
     "base_uri": "https://localhost:8080/"
    },
    "executionInfo": {
     "elapsed": 14,
     "status": "ok",
     "timestamp": 1752682233621,
     "user": {
      "displayName": "Sara Albashtawi",
      "userId": "03921890274498340999"
     },
     "user_tz": -180
    },
    "id": "dFxeAR0CbVPi",
    "outputId": "4a52c463-69a7-4b76-c1f5-715b0821d8ec"
   },
   "outputs": [
    {
     "data": {
      "text/plain": [
       "array([40, 45])"
      ]
     },
     "execution_count": 33,
     "metadata": {},
     "output_type": "execute_result"
    }
   ],
   "source": [
    "#Shape bottom row\n",
    "arr_2d[2,1:]"
   ]
  },
  {
   "cell_type": "code",
   "execution_count": null,
   "metadata": {
    "colab": {
     "base_uri": "https://localhost:8080/"
    },
    "executionInfo": {
     "elapsed": 40,
     "status": "ok",
     "timestamp": 1752682253511,
     "user": {
      "displayName": "Sara Albashtawi",
      "userId": "03921890274498340999"
     },
     "user_tz": -180
    },
    "id": "kaIBJT-vBFfd",
    "outputId": "9af1622b-53cd-4f06-fcc2-9086b91b7f22"
   },
   "outputs": [
    {
     "data": {
      "text/plain": [
       "array([[ 5, 10],\n",
       "       [20, 25]])"
      ]
     },
     "execution_count": 34,
     "metadata": {},
     "output_type": "execute_result"
    }
   ],
   "source": [
    "arr_2d[0:2,0:2]"
   ]
  },
  {
   "cell_type": "code",
   "execution_count": null,
   "metadata": {
    "colab": {
     "base_uri": "https://localhost:8080/"
    },
    "executionInfo": {
     "elapsed": 53,
     "status": "ok",
     "timestamp": 1752682273416,
     "user": {
      "displayName": "Sara Albashtawi",
      "userId": "03921890274498340999"
     },
     "user_tz": -180
    },
    "id": "kqB0LbyLBHR7",
    "outputId": "eafde605-6cf5-4494-c018-91973bf41418"
   },
   "outputs": [
    {
     "data": {
      "text/plain": [
       "array([25, 30])"
      ]
     },
     "execution_count": 35,
     "metadata": {},
     "output_type": "execute_result"
    }
   ],
   "source": [
    "arr_2d[1,1:]"
   ]
  },
  {
   "cell_type": "markdown",
   "metadata": {
    "id": "WCwIGw1jbVPi"
   },
   "source": [
    "# Fancy Indexing"
   ]
  },
  {
   "cell_type": "markdown",
   "metadata": {
    "id": "7i6lJ7Jz8Qkh"
   },
   "source": [
    "Fancy indexing allows you to select entire rows or columns out of order,to show this, let's quickly build out a numpy array"
   ]
  },
  {
   "cell_type": "code",
   "execution_count": null,
   "metadata": {
    "id": "J5Df3JXc8csS"
   },
   "outputs": [],
   "source": [
    "import numpy as np"
   ]
  },
  {
   "cell_type": "code",
   "execution_count": null,
   "metadata": {
    "colab": {
     "base_uri": "https://localhost:8080/"
    },
    "executionInfo": {
     "elapsed": 49,
     "status": "ok",
     "timestamp": 1752682316331,
     "user": {
      "displayName": "Sara Albashtawi",
      "userId": "03921890274498340999"
     },
     "user_tz": -180
    },
    "id": "RHlXXCEpbVPi",
    "outputId": "9132784a-8cea-4041-b409-fe5d62eee2f2"
   },
   "outputs": [
    {
     "data": {
      "text/plain": [
       "array([[0., 0., 0., 0., 0., 0., 0., 0., 0.],\n",
       "       [0., 0., 0., 0., 0., 0., 0., 0., 0.],\n",
       "       [0., 0., 0., 0., 0., 0., 0., 0., 0.],\n",
       "       [0., 0., 0., 0., 0., 0., 0., 0., 0.],\n",
       "       [0., 0., 0., 0., 0., 0., 0., 0., 0.],\n",
       "       [0., 0., 0., 0., 0., 0., 0., 0., 0.],\n",
       "       [0., 0., 0., 0., 0., 0., 0., 0., 0.],\n",
       "       [0., 0., 0., 0., 0., 0., 0., 0., 0.],\n",
       "       [0., 0., 0., 0., 0., 0., 0., 0., 0.],\n",
       "       [0., 0., 0., 0., 0., 0., 0., 0., 0.]])"
      ]
     },
     "execution_count": 36,
     "metadata": {},
     "output_type": "execute_result"
    }
   ],
   "source": [
    "#Set up matrix\n",
    "arr2d = np.zeros((10,9))\n",
    "arr2d"
   ]
  },
  {
   "cell_type": "code",
   "execution_count": null,
   "metadata": {
    "colab": {
     "base_uri": "https://localhost:8080/"
    },
    "executionInfo": {
     "elapsed": 28,
     "status": "ok",
     "timestamp": 1752682324651,
     "user": {
      "displayName": "Sara Albashtawi",
      "userId": "03921890274498340999"
     },
     "user_tz": -180
    },
    "id": "699LmUvibVPi",
    "outputId": "640bde20-730d-43bd-8d19-f268aec744f2"
   },
   "outputs": [
    {
     "data": {
      "text/plain": [
       "9"
      ]
     },
     "execution_count": 37,
     "metadata": {},
     "output_type": "execute_result"
    }
   ],
   "source": [
    "#Length of array\n",
    "arr_length = arr2d.shape[1]\n",
    "arr_length"
   ]
  },
  {
   "cell_type": "code",
   "execution_count": null,
   "metadata": {
    "colab": {
     "base_uri": "https://localhost:8080/"
    },
    "executionInfo": {
     "elapsed": 18,
     "status": "ok",
     "timestamp": 1752682356506,
     "user": {
      "displayName": "Sara Albashtawi",
      "userId": "03921890274498340999"
     },
     "user_tz": -180
    },
    "id": "waBdg6H1Ccq4",
    "outputId": "d8d9b0c2-b52a-4158-949f-1c7425a78636"
   },
   "outputs": [
    {
     "data": {
      "text/plain": [
       "array([0., 0., 0., 0., 0., 0., 0., 0., 0.])"
      ]
     },
     "execution_count": 38,
     "metadata": {},
     "output_type": "execute_result"
    }
   ],
   "source": [
    "arr2d[0]"
   ]
  },
  {
   "cell_type": "code",
   "execution_count": null,
   "metadata": {
    "colab": {
     "base_uri": "https://localhost:8080/"
    },
    "executionInfo": {
     "elapsed": 62,
     "status": "ok",
     "timestamp": 1752682365013,
     "user": {
      "displayName": "Sara Albashtawi",
      "userId": "03921890274498340999"
     },
     "user_tz": -180
    },
    "id": "L_Na5qY6CiFy",
    "outputId": "637abba6-831b-4658-9eab-50b900340e78"
   },
   "outputs": [
    {
     "data": {
      "text/plain": [
       "array([0., 0., 0., 0., 0., 0., 0., 0., 0.])"
      ]
     },
     "execution_count": 39,
     "metadata": {},
     "output_type": "execute_result"
    }
   ],
   "source": [
    "arr2d[1]"
   ]
  },
  {
   "cell_type": "code",
   "execution_count": null,
   "metadata": {
    "colab": {
     "base_uri": "https://localhost:8080/"
    },
    "executionInfo": {
     "elapsed": 8,
     "status": "ok",
     "timestamp": 1752682384218,
     "user": {
      "displayName": "Sara Albashtawi",
      "userId": "03921890274498340999"
     },
     "user_tz": -180
    },
    "id": "L_sPtP_5bVPi",
    "outputId": "0ceb9d16-30c7-452b-8616-b649f3425ed6"
   },
   "outputs": [
    {
     "data": {
      "text/plain": [
       "array([[0., 0., 0., 0., 0., 0., 0., 0., 0.],\n",
       "       [1., 1., 1., 1., 1., 1., 1., 1., 1.],\n",
       "       [2., 2., 2., 2., 2., 2., 2., 2., 2.],\n",
       "       [3., 3., 3., 3., 3., 3., 3., 3., 3.],\n",
       "       [4., 4., 4., 4., 4., 4., 4., 4., 4.],\n",
       "       [5., 5., 5., 5., 5., 5., 5., 5., 5.],\n",
       "       [6., 6., 6., 6., 6., 6., 6., 6., 6.],\n",
       "       [7., 7., 7., 7., 7., 7., 7., 7., 7.],\n",
       "       [8., 8., 8., 8., 8., 8., 8., 8., 8.],\n",
       "       [0., 0., 0., 0., 0., 0., 0., 0., 0.]])"
      ]
     },
     "execution_count": 41,
     "metadata": {},
     "output_type": "execute_result"
    }
   ],
   "source": [
    "#Set up array\n",
    "\n",
    "for i in range(arr_length):\n",
    "    arr2d[i] = i\n",
    "\n",
    "arr2d"
   ]
  },
  {
   "cell_type": "markdown",
   "metadata": {
    "id": "nMwLbj85bVPi"
   },
   "source": [
    "Fancy indexing allows the following"
   ]
  },
  {
   "cell_type": "code",
   "execution_count": null,
   "metadata": {
    "colab": {
     "base_uri": "https://localhost:8080/"
    },
    "executionInfo": {
     "elapsed": 14,
     "status": "ok",
     "timestamp": 1752682389344,
     "user": {
      "displayName": "Sara Albashtawi",
      "userId": "03921890274498340999"
     },
     "user_tz": -180
    },
    "id": "p1L5hWrKDR0t",
    "outputId": "4d3a8a3f-3c23-41e8-c6db-fdf51b4161ae"
   },
   "outputs": [
    {
     "data": {
      "text/plain": [
       "array([[0., 0., 0., 0., 0., 0., 0., 0., 0.],\n",
       "       [3., 3., 3., 3., 3., 3., 3., 3., 3.],\n",
       "       [5., 5., 5., 5., 5., 5., 5., 5., 5.]])"
      ]
     },
     "execution_count": 42,
     "metadata": {},
     "output_type": "execute_result"
    }
   ],
   "source": [
    "arr2d[[0,3,5]]"
   ]
  },
  {
   "cell_type": "code",
   "execution_count": null,
   "metadata": {
    "colab": {
     "base_uri": "https://localhost:8080/"
    },
    "executionInfo": {
     "elapsed": 7,
     "status": "ok",
     "timestamp": 1752682413130,
     "user": {
      "displayName": "Sara Albashtawi",
      "userId": "03921890274498340999"
     },
     "user_tz": -180
    },
    "id": "WVA_gzBLDcq6",
    "outputId": "71e9fea2-eea2-4a75-db22-943e957f9d77"
   },
   "outputs": [
    {
     "data": {
      "text/plain": [
       "array([[5., 5., 5., 5., 5., 5., 5., 5., 5.],\n",
       "       [0., 0., 0., 0., 0., 0., 0., 0., 0.],\n",
       "       [6., 6., 6., 6., 6., 6., 6., 6., 6.]])"
      ]
     },
     "execution_count": 43,
     "metadata": {},
     "output_type": "execute_result"
    }
   ],
   "source": [
    "arr2d[[5,0,6]]"
   ]
  },
  {
   "cell_type": "code",
   "execution_count": null,
   "metadata": {
    "colab": {
     "base_uri": "https://localhost:8080/"
    },
    "executionInfo": {
     "elapsed": 15,
     "status": "ok",
     "timestamp": 1752682420735,
     "user": {
      "displayName": "Sara Albashtawi",
      "userId": "03921890274498340999"
     },
     "user_tz": -180
    },
    "id": "LLapsUMnbVPi",
    "outputId": "3f748f51-7f01-4047-ab84-a246b13a3fe9"
   },
   "outputs": [
    {
     "data": {
      "text/plain": [
       "array([[2., 2., 2., 2., 2., 2., 2., 2., 2.],\n",
       "       [4., 4., 4., 4., 4., 4., 4., 4., 4.],\n",
       "       [6., 6., 6., 6., 6., 6., 6., 6., 6.],\n",
       "       [8., 8., 8., 8., 8., 8., 8., 8., 8.]])"
      ]
     },
     "execution_count": 44,
     "metadata": {},
     "output_type": "execute_result"
    }
   ],
   "source": [
    "arr2d[[2,4,6,8]]"
   ]
  },
  {
   "cell_type": "code",
   "execution_count": null,
   "metadata": {
    "colab": {
     "base_uri": "https://localhost:8080/"
    },
    "executionInfo": {
     "elapsed": 38,
     "status": "ok",
     "timestamp": 1752682426475,
     "user": {
      "displayName": "Sara Albashtawi",
      "userId": "03921890274498340999"
     },
     "user_tz": -180
    },
    "id": "eZJUR8-pbVPi",
    "outputId": "c6d8a13c-a8ec-4d0a-c81b-72364246be47"
   },
   "outputs": [
    {
     "data": {
      "text/plain": [
       "array([[6., 6., 6., 6., 6., 6., 6., 6., 6.],\n",
       "       [4., 4., 4., 4., 4., 4., 4., 4., 4.],\n",
       "       [2., 2., 2., 2., 2., 2., 2., 2., 2.],\n",
       "       [7., 7., 7., 7., 7., 7., 7., 7., 7.]])"
      ]
     },
     "execution_count": 45,
     "metadata": {},
     "output_type": "execute_result"
    }
   ],
   "source": [
    "#Allows in any order\n",
    "arr2d[[6,4,2,7]]"
   ]
  },
  {
   "cell_type": "markdown",
   "metadata": {
    "id": "13_c_T4WbVPi"
   },
   "source": [
    "# Selection"
   ]
  },
  {
   "cell_type": "markdown",
   "metadata": {
    "id": "P3o0vp_g9hkl"
   },
   "source": [
    "Let's briefly go over how to use brackets for selection based off of comparison operators."
   ]
  },
  {
   "cell_type": "code",
   "execution_count": null,
   "metadata": {
    "id": "FhrBDpZo-r-1"
   },
   "outputs": [],
   "source": [
    "x= 10\n",
    "if x<5:\n",
    "  print(\"hi\")"
   ]
  },
  {
   "cell_type": "code",
   "execution_count": null,
   "metadata": {
    "colab": {
     "base_uri": "https://localhost:8080/"
    },
    "executionInfo": {
     "elapsed": 12,
     "status": "ok",
     "timestamp": 1752682477560,
     "user": {
      "displayName": "Sara Albashtawi",
      "userId": "03921890274498340999"
     },
     "user_tz": -180
    },
    "id": "VeEt7jGmbVPi",
    "outputId": "65615f4b-28fa-4f44-d25b-5a597cec2acc"
   },
   "outputs": [
    {
     "name": "stdout",
     "output_type": "stream",
     "text": [
      "[ 1  2  3  4  5  6  7  8  9 10]\n"
     ]
    }
   ],
   "source": [
    "arr = np.arange(1,11)\n",
    "print(arr)\n"
   ]
  },
  {
   "cell_type": "code",
   "execution_count": null,
   "metadata": {
    "colab": {
     "base_uri": "https://localhost:8080/"
    },
    "executionInfo": {
     "elapsed": 59,
     "status": "ok",
     "timestamp": 1752682484115,
     "user": {
      "displayName": "Sara Albashtawi",
      "userId": "03921890274498340999"
     },
     "user_tz": -180
    },
    "id": "CoQAe1CGbVPi",
    "outputId": "8d3615b1-1d6d-467c-ab50-2a6c80f6cbf2"
   },
   "outputs": [
    {
     "data": {
      "text/plain": [
       "array([False, False, False, False,  True,  True,  True,  True,  True,\n",
       "        True])"
      ]
     },
     "execution_count": 48,
     "metadata": {},
     "output_type": "execute_result"
    }
   ],
   "source": [
    "arr > 4"
   ]
  },
  {
   "cell_type": "code",
   "execution_count": null,
   "metadata": {
    "colab": {
     "base_uri": "https://localhost:8080/"
    },
    "executionInfo": {
     "elapsed": 15,
     "status": "ok",
     "timestamp": 1752682514399,
     "user": {
      "displayName": "Sara Albashtawi",
      "userId": "03921890274498340999"
     },
     "user_tz": -180
    },
    "id": "fRg976W6G854",
    "outputId": "2d944789-1acc-4298-cf1b-ddd40af122c0"
   },
   "outputs": [
    {
     "name": "stdout",
     "output_type": "stream",
     "text": [
      "[1 2 3]\n"
     ]
    }
   ],
   "source": [
    "print(arr[arr<4])"
   ]
  },
  {
   "cell_type": "code",
   "execution_count": null,
   "metadata": {
    "colab": {
     "base_uri": "https://localhost:8080/"
    },
    "executionInfo": {
     "elapsed": 9,
     "status": "ok",
     "timestamp": 1752682535813,
     "user": {
      "displayName": "Sara Albashtawi",
      "userId": "03921890274498340999"
     },
     "user_tz": -180
    },
    "id": "UgUGWJ4HIUAs",
    "outputId": "5e54e041-e8db-4e0d-9d34-4be41b58d69e"
   },
   "outputs": [
    {
     "data": {
      "text/plain": [
       "array([ 5,  6,  7,  8,  9, 10])"
      ]
     },
     "execution_count": 50,
     "metadata": {},
     "output_type": "execute_result"
    }
   ],
   "source": [
    "x = arr > 4\n",
    "arr[x] #return only the values in arr where x is True"
   ]
  },
  {
   "cell_type": "code",
   "execution_count": null,
   "metadata": {
    "collapsed": true,
    "id": "NlCjln-rbVPj"
   },
   "outputs": [],
   "source": [
    "bool_arr = arr<4"
   ]
  },
  {
   "cell_type": "code",
   "execution_count": null,
   "metadata": {
    "colab": {
     "base_uri": "https://localhost:8080/"
    },
    "executionInfo": {
     "elapsed": 40,
     "status": "ok",
     "timestamp": 1752682551271,
     "user": {
      "displayName": "Sara Albashtawi",
      "userId": "03921890274498340999"
     },
     "user_tz": -180
    },
    "id": "b-86zFr3bVPj",
    "outputId": "731338c0-981e-4426-af3e-c34ab658013c"
   },
   "outputs": [
    {
     "data": {
      "text/plain": [
       "array([ True,  True,  True, False, False, False, False, False, False,\n",
       "       False])"
      ]
     },
     "execution_count": 52,
     "metadata": {},
     "output_type": "execute_result"
    }
   ],
   "source": [
    "bool_arr"
   ]
  },
  {
   "cell_type": "code",
   "execution_count": null,
   "metadata": {
    "colab": {
     "base_uri": "https://localhost:8080/"
    },
    "executionInfo": {
     "elapsed": 11,
     "status": "ok",
     "timestamp": 1752682557000,
     "user": {
      "displayName": "Sara Albashtawi",
      "userId": "03921890274498340999"
     },
     "user_tz": -180
    },
    "id": "XrcIWdcH-S-g",
    "outputId": "7b52b78a-5f80-46fe-efe0-e1cb1e36b363"
   },
   "outputs": [
    {
     "data": {
      "text/plain": [
       "array([1, 2, 3])"
      ]
     },
     "execution_count": 53,
     "metadata": {},
     "output_type": "execute_result"
    }
   ],
   "source": [
    "arr[arr<4]"
   ]
  },
  {
   "cell_type": "code",
   "execution_count": null,
   "metadata": {
    "colab": {
     "base_uri": "https://localhost:8080/"
    },
    "executionInfo": {
     "elapsed": 11,
     "status": "ok",
     "timestamp": 1752682559714,
     "user": {
      "displayName": "Sara Albashtawi",
      "userId": "03921890274498340999"
     },
     "user_tz": -180
    },
    "id": "X9X_uJKEbVPj",
    "outputId": "19bba414-f02e-4168-f27c-9940578186d5"
   },
   "outputs": [
    {
     "data": {
      "text/plain": [
       "array([1, 2, 3])"
      ]
     },
     "execution_count": 54,
     "metadata": {},
     "output_type": "execute_result"
    }
   ],
   "source": [
    "arr[bool_arr]"
   ]
  },
  {
   "cell_type": "code",
   "execution_count": null,
   "metadata": {
    "colab": {
     "base_uri": "https://localhost:8080/"
    },
    "executionInfo": {
     "elapsed": 24,
     "status": "ok",
     "timestamp": 1752682563717,
     "user": {
      "displayName": "Sara Albashtawi",
      "userId": "03921890274498340999"
     },
     "user_tz": -180
    },
    "id": "Gkit0IDibVPn",
    "outputId": "5747a55f-d879-4739-fdb5-e865964dff9e"
   },
   "outputs": [
    {
     "data": {
      "text/plain": [
       "array([ 3,  4,  5,  6,  7,  8,  9, 10])"
      ]
     },
     "execution_count": 55,
     "metadata": {},
     "output_type": "execute_result"
    }
   ],
   "source": [
    "x = 2\n",
    "arr[arr>x]"
   ]
  },
  {
   "cell_type": "markdown",
   "metadata": {
    "id": "6Y70XWZQ_AMd"
   },
   "source": [
    "# Great Job 🚀"
   ]
  }
 ],
 "metadata": {
  "colab": {
   "collapsed_sections": [
    "4HsNyNmh65OB",
    "Yq0I-cerbVPg",
    "C6Ou0EJ0bVPh",
    "WCwIGw1jbVPi",
    "13_c_T4WbVPi"
   ],
   "provenance": []
  },
  "kernelspec": {
   "display_name": "Python 3",
   "name": "python3"
  },
  "language_info": {
   "codemirror_mode": {
    "name": "ipython",
    "version": 3
   },
   "file_extension": ".py",
   "mimetype": "text/x-python",
   "name": "python",
   "nbconvert_exporter": "python",
   "pygments_lexer": "ipython3",
   "version": "3.13.0"
  }
 },
 "nbformat": 4,
 "nbformat_minor": 0
}
