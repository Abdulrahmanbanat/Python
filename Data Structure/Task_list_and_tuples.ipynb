{
 "cells": [
  {
   "cell_type": "code",
   "execution_count": 1,
   "id": "a94b548c",
   "metadata": {},
   "outputs": [
    {
     "name": "stdout",
     "output_type": "stream",
     "text": [
      "Original To-Do List: ['Finish project', 'Call client', 'Write report']\n",
      "\n",
      "After adding task by use 'append': ['Finish project', 'Call client', 'Write report', 'Plan team meeting']\n",
      "\n",
      "After adding task by use 'insert': ['Finish project', 'Reply to emails', 'Call client', 'Write report', 'Plan team meeting']\n",
      "After sorting alphabetically: ['Call client', 'Finish project', 'Plan team meeting', 'Reply to emails', 'Write report']\n",
      "After reversing the list: ['Write report', 'Reply to emails', 'Plan team meeting', 'Finish project', 'Call client']\n",
      "\n",
      "After removing task by use 'pop': ['Reply to emails', 'Plan team meeting', 'Finish project', 'Call client']\n",
      "\n",
      "After removing task by use 'remove': ['Reply to emails', 'Plan team meeting', 'Finish project']\n",
      "\n",
      "After deleting a range of tasks (index 1 to 2): ['Reply to emails']\n"
     ]
    }
   ],
   "source": [
    "# List Example: Managing a to-do list\n",
    "# Create a to-do list (mutable: can be updated)\n",
    "todo_list = [\"Finish project\", \"Call client\", \"Write report\"]  # Initial tasks\n",
    "print(\"Original To-Do List:\", todo_list)\n",
    "\n",
    "# Adding tasks\n",
    "todo_list.append(\"Plan team meeting\")  # Add a new task\n",
    "print(\"\\nAfter adding task by use 'append':\", todo_list)\n",
    "todo_list.insert(1, \"Reply to emails\")  # Insert a task at a specific position\n",
    "print(\"\\nAfter adding task by use 'insert':\", todo_list)\n",
    "\n",
    "# Sorting the list alphabetically\n",
    "todo_list.sort()  # Sort the tasks in alphabetical order\n",
    "print(\"After sorting alphabetically:\", todo_list)\n",
    "\n",
    "# Reversing the list\n",
    "todo_list.reverse()  # Reverse the order of the list\n",
    "print(\"After reversing the list:\", todo_list)\n",
    "\n",
    "# Removing tasks\n",
    "todo_list.pop(0)  # Remove the first task using its index\n",
    "print(\"\\nAfter removing task by use 'pop':\", todo_list)\n",
    "todo_list.remove(\"Call client\")  # Remove a task by its value\n",
    "print(\"\\nAfter removing task by use 'remove':\", todo_list)\n",
    "\n",
    "# Deleting a range of tasks using `del`\n",
    "del todo_list[1:3]  # Remove tasks from index 1 to 2 (excluding index 3)\n",
    "print(\"\\nAfter deleting a range of tasks (index 1 to 2):\", todo_list)"
   ]
  },
  {
   "cell_type": "code",
   "execution_count": 2,
   "id": "c468d7a1",
   "metadata": {},
   "outputs": [
    {
     "name": "stdout",
     "output_type": "stream",
     "text": [
      "Minimum priority level: 2\n",
      "Maximum priority level: 5\n",
      "Sum of all priorities: 14\n"
     ]
    }
   ],
   "source": [
    "# Adding numerical priorities to the tasks for testing min, max, sum\n",
    "priorities = [3, 5, 2, 4]  # Priority levels for tasks (lower number = higher priority)\n",
    "\n",
    "# Finding the minimum priority\n",
    "min_priority = min(priorities)  # Get the smallest priority value\n",
    "print(\"Minimum priority level:\", min_priority)\n",
    "\n",
    "# Finding the maximum priority\n",
    "max_priority = max(priorities)  # Get the highest priority value\n",
    "print(\"Maximum priority level:\", max_priority)\n",
    "\n",
    "# Calculating the sum of all priorities\n",
    "total_priority = sum(priorities)  # Calculate the total of all priority values\n",
    "print(\"Sum of all priorities:\", total_priority)"
   ]
  },
  {
   "cell_type": "code",
   "execution_count": 3,
   "id": "cf8090e9",
   "metadata": {},
   "outputs": [
    {
     "name": "stdout",
     "output_type": "stream",
     "text": [
      "\n",
      "Days of the Week according to the first way: ('Monday', 'Tuesday', 'Wednesday', 'Thursday', 'Friday', 'Saturday', 'Sunday')\n",
      "\n",
      "Days of the Week according to the Second way: ('Monday', 'Tuesday', 'Wednesday', 'Thursday', 'Friday', 'Saturday', 'Sunday')\n",
      "\n",
      "Days of the Week according to the third way: ('Monday', 'Tuesday', 'Wednesday', 'Thursday', 'Friday', 'Saturday', 'Sunday')\n"
     ]
    }
   ],
   "source": [
    "# Tuple Example: Storing fixed days of the week\n",
    "\n",
    "# Create a tuple of days of the week in different ways (immutable: cannot be changed)\n",
    "week_days_way1 = (\"Monday\", \"Tuesday\", \"Wednesday\", \"Thursday\", \"Friday\", \"Saturday\", \"Sunday\")\n",
    "week_days_way2 = \"Monday\", \"Tuesday\", \"Wednesday\", \"Thursday\", \"Friday\", \"Saturday\", \"Sunday\"\n",
    "week_days_way3 = \"Monday\", \"Tuesday\", \"Wednesday\", \"Thursday\", \"Friday\", \"Saturday\", \"Sunday\",\n",
    "\n",
    "print(\"\\nDays of the Week according to the first way:\", week_days_way1)\n",
    "print(\"\\nDays of the Week according to the Second way:\", week_days_way2)\n",
    "print(\"\\nDays of the Week according to the third way:\", week_days_way3)\n",
    "\n"
   ]
  },
  {
   "cell_type": "code",
   "execution_count": null,
   "id": "c3ffd0bf",
   "metadata": {},
   "outputs": [],
   "source": []
  }
 ],
 "metadata": {
  "kernelspec": {
   "display_name": "base",
   "language": "python",
   "name": "python3"
  },
  "language_info": {
   "codemirror_mode": {
    "name": "ipython",
    "version": 3
   },
   "file_extension": ".py",
   "mimetype": "text/x-python",
   "name": "python",
   "nbconvert_exporter": "python",
   "pygments_lexer": "ipython3",
   "version": "3.12.3"
  }
 },
 "nbformat": 4,
 "nbformat_minor": 5
}
