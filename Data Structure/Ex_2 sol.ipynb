{
  "cells": [
    {
      "cell_type": "markdown",
      "metadata": {
        "id": "Im6C6hMpIAh_"
      },
      "source": [
        "# Python Basics II Exercises\n",
        "\n",
        "\n",
        "## EX 1 - Data Structures\n",
        "\n",
        "**Strings**:\n",
        "   1. Write a function to count the number of vowels in a given string.\n",
        "   2. Write a function that takes a string and returns the same string but with every second letter capitalized.\n",
        "\n",
        "**List**:\n",
        "   3. Write a function that takes a list of numbers and returns a new list containing only the even numbers.\n",
        "   4. Write a function that takes a list and returns a new list with duplicate values removed.\n",
        "\n",
        "**Set**:\n",
        "   5. Write a function that takes two sets and returns their intersection as a new set.\n",
        "   6. Write a function that takes two sets and returns their union as a new set.\n",
        "\n",
        "**Tuple**:\n",
        "   7. Write a function that takes a list of tuples and sorts them based on the second element of each tuple.\n",
        "   8. Write a function that takes a tuple and returns a reversed version of that tuple.\n",
        "\n",
        "**Dictionary**:\n",
        "   9. Write a function that takes a dictionary and returns the keys and values as separate lists.\n",
        "   10. Write a function that takes a dictionary and a key, and if the key exists in the dictionary, return its value. If the key does not exist, return a default value.\n",
        "\n",
        "## EX 2 - Conditional Statements, Loops, and Functions\n",
        "\n",
        "**Task 1:** Write a program that takes two numbers as inputs from the user and prints their sum.\n",
        "\n",
        "**Task 2:** Write a program that takes an integer input from the user. Use a `for` loop to print all numbers from that integer down to 0.\n",
        "\n",
        "**Task 3:** Write a program that takes an integer input from the user. Use a `while` loop to keep doubling the number until it is greater than 1000, then print the result.\n",
        "\n",
        "**Task 4:** Write a function that takes a number as input and returns the square of the number. Use it in a program that takes an input from the user and prints the square.\n",
        "\n",
        "**Task 5:** Write a program that takes a number as input from the user. If the number is greater than 10, print \"Big number\". If the number is less than or equal to 10, print \"Small number\".\n",
        "\n",
        "**Task 6:** Write a function that takes two numbers as inputs and returns their product. Use this function in a program that takes two inputs from the user and prints the product.\n",
        "\n",
        "**Task 7:** Write a program that uses a `while` loop to take a number as input from the user, subtract 5, and print the result. Continue this until the result is less than 0.\n",
        "\n",
        "**Task 8:** Write a program that uses a `for` loop to take an integer input from the user and print the factorial of that number.\n",
        "\n",
        "**Task 9:** Write a program that takes a number as input from the user. If the number is positive, print \"Positive\". If the number is negative, print \"Negative\". If the number is zero, print \"Zero\".\n",
        "\n",
        "**Task 10:** Write a lambda function that takes two numbers as inputs and returns their division as a floating-point number. Use this function in a program that takes two inputs from the user and prints the division.\n",
        "\n",
        "***\n",
        "\n",
        "**P.S. ALL CODE MUST BE CLEAN, READABLE, WELL EXPLAINED, AND FOLLOWS THE PEP 8 STYLE GUIDE.**\n",
        "\n",
        "Happy coding!!"
      ]
    },
    {
      "cell_type": "code",
      "execution_count": 15,
      "metadata": {},
      "outputs": [
        {
          "name": "stdout",
          "output_type": "stream",
          "text": [
            "7\n"
          ]
        }
      ],
      "source": [
        "# string\n",
        "#1. Write a function to count the number of vowels in a given string.\n",
        "def vowels():\n",
        "  name = 'my name is abdulrahman'\n",
        "  vowel = {'a','e','o','u','i'}\n",
        "  count = 0\n",
        "  for i in name:\n",
        "    if i in vowel:\n",
        "      count  += 1\n",
        "  print (count)\n",
        "\n",
        "vowels()\n",
        "  "
      ]
    },
    {
      "cell_type": "code",
      "execution_count": 16,
      "metadata": {},
      "outputs": [
        {
          "data": {
            "text/plain": [
              "'AbDuLrAhMaN'"
            ]
          },
          "execution_count": 16,
          "metadata": {},
          "output_type": "execute_result"
        }
      ],
      "source": [
        "#  2. Write a function that takes a string and returns the same string but with every second letter capitalized.\n",
        "\n",
        "def same(strings):\n",
        "    capital = \"\"\n",
        "    for i in range(len(strings)):\n",
        "        if i % 2 == 0:\n",
        "            capital += strings[i].upper()\n",
        "        else:\n",
        "            capital += strings[i].lower()\n",
        "    return capital\n",
        "\n",
        "same(\"abdulrahman\")"
      ]
    },
    {
      "cell_type": "code",
      "execution_count": 17,
      "metadata": {},
      "outputs": [
        {
          "data": {
            "text/plain": [
              "[2, 4, 6]"
            ]
          },
          "execution_count": 17,
          "metadata": {},
          "output_type": "execute_result"
        }
      ],
      "source": [
        "#List\n",
        " # 3. Write a function that takes a list of numbers and returns a new list containing only the even numbers.\n",
        "\n",
        "def lists(lst):\n",
        "\n",
        "  lst_even = []\n",
        "  for i in lst:\n",
        "    if i%2 == 0:\n",
        "      lst_even.append(i)\n",
        "  \n",
        "  return lst_even\n",
        "\n",
        "lists([1,2,3,4,5,6])"
      ]
    },
    {
      "cell_type": "code",
      "execution_count": 18,
      "metadata": {},
      "outputs": [
        {
          "data": {
            "text/plain": [
              "[1, 2, 3, 4, 5]"
            ]
          },
          "execution_count": 18,
          "metadata": {},
          "output_type": "execute_result"
        }
      ],
      "source": [
        "#4. Write a function that takes a list and returns a new list with duplicate values removed.\n",
        "\n",
        "def lis(lst):\n",
        "\n",
        "  new_lst = []\n",
        "  for i in lst:\n",
        "    if i not in new_lst:\n",
        "      new_lst.append(i)\n",
        "  \n",
        "  return new_lst\n",
        "\n",
        "lis([1,2,3,3,4,4,5])"
      ]
    },
    {
      "cell_type": "code",
      "execution_count": 19,
      "metadata": {},
      "outputs": [
        {
          "data": {
            "text/plain": [
              "{5}"
            ]
          },
          "execution_count": 19,
          "metadata": {},
          "output_type": "execute_result"
        }
      ],
      "source": [
        "#Set\n",
        "# 5. Write a function that takes two sets and returns their intersection as a new set.\n",
        "def s1(set_num,set_num2):\n",
        "  new_set = set()\n",
        "  intersection = set_num.intersection(set_num2)\n",
        "  new_set = intersection\n",
        "  return new_set\n",
        "\n",
        "s1({1,2,3,5},{4,5,6,7})"
      ]
    },
    {
      "cell_type": "code",
      "execution_count": 20,
      "metadata": {},
      "outputs": [
        {
          "data": {
            "text/plain": [
              "{1, 2, 3, 4, 5, 6, 7}"
            ]
          },
          "execution_count": 20,
          "metadata": {},
          "output_type": "execute_result"
        }
      ],
      "source": [
        "# 6. Write a function that takes two sets and returns their union as a new set.\n",
        "\n",
        "def s2(set_num,set_num2):\n",
        "  new_set = set()\n",
        "  union = set_num.union(set_num2)\n",
        "  new_set = union\n",
        "  return new_set\n",
        "\n",
        "s2({1,2,3,5},{4,5,6,7})"
      ]
    },
    {
      "cell_type": "code",
      "execution_count": 21,
      "metadata": {},
      "outputs": [
        {
          "data": {
            "text/plain": [
              "[('Ali', 1), ('Zain', 2), ('Omar', 3)]"
            ]
          },
          "execution_count": 21,
          "metadata": {},
          "output_type": "execute_result"
        }
      ],
      "source": [
        "#Tuple:\n",
        "# 7. Write a function that takes a list of tuples and sorts them based on the second element of each tuple.\n",
        "\n",
        "\n",
        "def t1():\n",
        "\n",
        "  tuple1 = [('Omar',3),('Ali',1),('Zain',2)]\n",
        "  return sorted(tuple1, key= lambda i:i[1])\n",
        "\n",
        "t1()"
      ]
    },
    {
      "cell_type": "code",
      "execution_count": 22,
      "metadata": {},
      "outputs": [
        {
          "data": {
            "text/plain": [
              "(6, 5, 4, 3, 2, 1)"
            ]
          },
          "execution_count": 22,
          "metadata": {},
          "output_type": "execute_result"
        }
      ],
      "source": [
        "# 8. Write a function that takes a tuple and returns a reversed version of that tuple.\n",
        "\n",
        "def t2():\n",
        "\n",
        "  tuple2 = (1,2,3,4,5,6)\n",
        "  tuple_new = tuple ()\n",
        "  tuple_new=tuple2[::-1]\n",
        "  return tuple_new\n",
        "t2()"
      ]
    },
    {
      "cell_type": "code",
      "execution_count": 23,
      "metadata": {},
      "outputs": [
        {
          "name": "stdout",
          "output_type": "stream",
          "text": [
            "['name', 'age', 'major']\n",
            "['abdulrahman', 22, 'computer science']\n"
          ]
        }
      ],
      "source": [
        "#Dictionary\n",
        "# 9. Write a function that takes a dictionary and returns the keys and values as separate lists.\n",
        "\n",
        "def d1():\n",
        "  dic = {'name':'abdulrahman', 'age': 22, 'major':'computer science'}\n",
        "\n",
        "  val = []\n",
        "  key = []\n",
        "\n",
        "  val = list(dic.values())\n",
        "  key = list(dic.keys())\n",
        "\n",
        "  print(key)\n",
        "  print(val)\n",
        "\n",
        "d1()\n"
      ]
    },
    {
      "cell_type": "code",
      "execution_count": 24,
      "metadata": {},
      "outputs": [
        {
          "data": {
            "text/plain": [
              "'computer science'"
            ]
          },
          "execution_count": 24,
          "metadata": {},
          "output_type": "execute_result"
        }
      ],
      "source": [
        "#10. Write a function that takes a dictionary and a key, and if the key exists in the dictionary,\n",
        "#  return its value. If the key does not exist, return a default value.\n",
        "\n",
        "def d2(dic, key):\n",
        "\n",
        "  if  key in dic:\n",
        "    return dic[key]\n",
        "  else:\n",
        "    return 'Not Found'\n",
        "\n",
        "\n",
        "d2({'name':'abdulrahman', 'age': 22, 'major':'computer science'},'major')\n",
        "  \n",
        "\n"
      ]
    },
    {
      "cell_type": "markdown",
      "metadata": {},
      "source": [
        "EX.2"
      ]
    },
    {
      "cell_type": "code",
      "execution_count": 25,
      "metadata": {},
      "outputs": [
        {
          "name": "stdout",
          "output_type": "stream",
          "text": [
            "The sum is  510\n"
          ]
        }
      ],
      "source": [
        "#Task 1: Write a program that takes two numbers as inputs from the user and prints their sum.\n",
        "\n",
        "def add():\n",
        "  num1 = int(input('Enter number1: '))\n",
        "  num2 = int(input('Enter number2: '))\n",
        "\n",
        "  total = num1 + num2\n",
        "\n",
        "  print ('The sum is ',total)\n",
        "\n",
        "add()"
      ]
    },
    {
      "cell_type": "code",
      "execution_count": 26,
      "metadata": {},
      "outputs": [
        {
          "name": "stdout",
          "output_type": "stream",
          "text": [
            "9\n",
            "8\n",
            "7\n",
            "6\n",
            "5\n",
            "4\n",
            "3\n",
            "2\n",
            "1\n",
            "0\n"
          ]
        }
      ],
      "source": [
        "# Task 2: Write a program that takes an integer input from the user. \n",
        "# Use a `for` loop to print all numbers from that integer down to 0.\n",
        "\n",
        "\n",
        "def down():\n",
        "  num = int(input('Enter your number: '))\n",
        "\n",
        "  for i in reversed(range(num)):\n",
        "    print (i)\n",
        "\n",
        "down()\n",
        "     \n",
        "\n",
        "\n"
      ]
    },
    {
      "cell_type": "code",
      "execution_count": 35,
      "metadata": {},
      "outputs": [
        {
          "name": "stdout",
          "output_type": "stream",
          "text": [
            "1280\n"
          ]
        }
      ],
      "source": [
        "#Task 3: Write a program that takes an integer input from the user. \n",
        "# Use a `while` loop to keep doubling the number until it is greater than 1000, then print the result.\n",
        "\n",
        "def doubling():\n",
        "  num = int(input('Enter your number: '))\n",
        "  res = num\n",
        "\n",
        "  while res<= 1000:\n",
        "    res=res * 2\n",
        "\n",
        "  print(res)\n",
        "\n",
        "doubling()"
      ]
    },
    {
      "cell_type": "code",
      "execution_count": 39,
      "metadata": {},
      "outputs": [
        {
          "name": "stdout",
          "output_type": "stream",
          "text": [
            "25\n"
          ]
        }
      ],
      "source": [
        "# Task 4: Write a function that takes a number as input and returns the square of the number.\n",
        "#  Use it in a program that takes an input from the user and prints the square.\n",
        "\n",
        "def square():\n",
        "  num = int(input('Enter your number: '))\n",
        "\n",
        "  result = num **2\n",
        "\n",
        "  print(result)\n",
        "\n",
        "square()"
      ]
    },
    {
      "cell_type": "code",
      "execution_count": 42,
      "metadata": {},
      "outputs": [
        {
          "name": "stdout",
          "output_type": "stream",
          "text": [
            "Big number\n"
          ]
        }
      ],
      "source": [
        "''' Task 5: Write a program that takes a number as input from the user.\n",
        "If the number is greater than 10, print \"Big number\".\n",
        "If the number is less than or equal to 10, print \"Small number\".'''\n",
        "\n",
        "def big_small():\n",
        "  num = int(input('Enter your number: '))\n",
        "\n",
        "  if num >= 10:\n",
        "    print('Big number')\n",
        "  else:\n",
        "    print ('Small number')\n",
        "\n",
        "big_small()"
      ]
    },
    {
      "cell_type": "code",
      "execution_count": 43,
      "metadata": {},
      "outputs": [
        {
          "data": {
            "text/plain": [
              "500"
            ]
          },
          "execution_count": 43,
          "metadata": {},
          "output_type": "execute_result"
        }
      ],
      "source": [
        "'''Task 6: Write a function that takes two numbers as inputs and returns their product. \n",
        "Use this function in a program that takes two inputs from the user and prints the product.'''\n",
        "\n",
        "def multi():\n",
        "  num1 = int(input('Enter your number1: '))\n",
        "  num2 = int(input('Enter your number1: '))\n",
        "\n",
        "  return num1 * num2\n",
        "\n",
        "multi()"
      ]
    },
    {
      "cell_type": "code",
      "execution_count": 45,
      "metadata": {},
      "outputs": [
        {
          "name": "stdout",
          "output_type": "stream",
          "text": [
            "-2\n"
          ]
        }
      ],
      "source": [
        "'''Task 7:Write a program that uses a `while` loop to take a number as input from the user,\n",
        " subtract 5, and print the result. Continue this until the result is less than 0.'''\n",
        "\n",
        "def sub():\n",
        "  num = int(input('Enter your number: '))\n",
        "  sub = num\n",
        "\n",
        "  while sub >= 0:\n",
        "    sub = sub - 5\n",
        "  print (sub)\n",
        "\n",
        "sub()"
      ]
    },
    {
      "cell_type": "code",
      "execution_count": 48,
      "metadata": {},
      "outputs": [
        {
          "name": "stdout",
          "output_type": "stream",
          "text": [
            "120\n"
          ]
        }
      ],
      "source": [
        "'''Task 8: Write a program that uses a `for` loop to take an integer input from the user\n",
        "and print the factorial of that number.'''\n",
        "\n",
        "def factorial():\n",
        "    num = int(input('Enter your number: '))\n",
        "    if num == 0:\n",
        "        return 1\n",
        "    p = 1\n",
        "    for i in range(1, num+1):\n",
        "        p = p * i\n",
        "    return p\n",
        "\n",
        "print(factorial())"
      ]
    },
    {
      "cell_type": "code",
      "execution_count": 51,
      "metadata": {},
      "outputs": [
        {
          "name": "stdout",
          "output_type": "stream",
          "text": [
            "Negative\n"
          ]
        }
      ],
      "source": [
        "'''Task 9: Write a program that takes a number as input from the user. \n",
        "If the number is positive, print \"Positive\". If the number is negative, print \"Negative\". \n",
        " If the number is zero, print \"Zero\".'''   \n",
        "\n",
        "def number():\n",
        "  num = int(input('Enter your number: '))\n",
        "\n",
        "  if num > 0:\n",
        "    print(\"Positive\")\n",
        "  elif num < 0:\n",
        "    print(\"Negative\")\n",
        "  else:\n",
        "    print(\"Zero\")\n",
        "\n",
        "number()"
      ]
    },
    {
      "cell_type": "code",
      "execution_count": 56,
      "metadata": {},
      "outputs": [
        {
          "name": "stdout",
          "output_type": "stream",
          "text": [
            "2.0\n"
          ]
        }
      ],
      "source": [
        "'''Task 10: Write a lambda function that takes two numbers as inputs \n",
        "and returns their division as a floating-point number. \n",
        "Use this function in a program that takes two inputs from the user and prints the division.'''  \n",
        "\n",
        "def div():\n",
        "  num1 = float(input('Enter your number1: '))\n",
        "  num2 = float(input('Enter your number2: '))\n",
        "\n",
        "  result = lambda num1 , num2: num1/num2\n",
        "  div_result = result(num1, num2)\n",
        "  print(div_result)\n",
        "\n",
        "div()\n"
      ]
    },
    {
      "cell_type": "code",
      "execution_count": null,
      "metadata": {},
      "outputs": [],
      "source": []
    }
  ],
  "metadata": {
    "colab": {
      "provenance": []
    },
    "kernelspec": {
      "display_name": "base",
      "language": "python",
      "name": "python3"
    },
    "language_info": {
      "codemirror_mode": {
        "name": "ipython",
        "version": 3
      },
      "file_extension": ".py",
      "mimetype": "text/x-python",
      "name": "python",
      "nbconvert_exporter": "python",
      "pygments_lexer": "ipython3",
      "version": "3.12.3"
    }
  },
  "nbformat": 4,
  "nbformat_minor": 0
}
