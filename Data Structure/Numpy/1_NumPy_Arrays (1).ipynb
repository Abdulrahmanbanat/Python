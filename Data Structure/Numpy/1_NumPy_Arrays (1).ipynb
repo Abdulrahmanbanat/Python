{
 "cells": [
  {
   "cell_type": "markdown",
   "metadata": {
    "id": "HGOwiEFHcxLX"
   },
   "source": [
    "# Numpy Arrays\n",
    "\n",
    "This Notebook includes the following contents:\n",
    "\n",
    "* Introduction to the Numpy Library.\n",
    "* Installation Instructions.\n",
    "* Import Numpy.\n",
    "* Numpy Arrays.\n",
    "  1. Creating NumPy Arrays.\n",
    "\n",
    "     - From a Python List or Nested List.\n",
    "     - From Built-in Methods (arange, zeros and ones, linspace, eye, identity).\n",
    "     - From Random Built-in Methods to create random number arrays (rand, randn, randint)\n",
    "\n",
    "  2. Size, Shape and Reshape.\n",
    "\n",
    "  3. Built-in Methods (max, argmax, min, argmin)\n"
   ]
  },
  {
   "cell_type": "markdown",
   "metadata": {
    "id": "efXUiAbmbU6o"
   },
   "source": [
    "# Introduction to the Numpy Library.\n",
    "\n",
    "NumPy (or Numpy) is a **Linear Algebra Library for Python**, the reason it is so important for Data Science with Python is that almost all of the libraries in the PyData Ecosystem rely on NumPy as one of their main building blocks.\n",
    "\n",
    "Numpy is also incredibly fast, as it has bindings to C libraries. For more info on why you would want to use Arrays instead of lists, check out this great [StackOverflow post](http://stackoverflow.com/questions/993984/why-numpy-instead-of-python-lists).\n",
    "\n",
    "Numpy has many built-in functions and capabilities. We won't cover them all but instead we will focus on some of the most important aspects of Numpy: vectors,arrays,matrices, and number generation.\n",
    "\n",
    "We will only learn the basics of NumPy, to get started we need to install it!"
   ]
  },
  {
   "cell_type": "markdown",
   "metadata": {
    "id": "SkkaBcSfbU6q"
   },
   "source": [
    "# Installation Instructions"
   ]
  },
  {
   "cell_type": "markdown",
   "metadata": {
    "id": "BoS9ns9vfVQB"
   },
   "source": [
    "It is highly recommended you install Python using the Anaconda distribution to make sure all underlying dependencies (such as Linear Algebra libraries) all sync up with the use of a conda install. If you have Anaconda, install NumPy by going to your terminal or command prompt and typing:\n",
    "    \n",
    "    conda install numpy\n",
    "    \n",
    "If you do not have Anaconda and can not install it, please refer to [Numpy's official documentation on various installation instructions.](http://docs.scipy.org/doc/numpy-1.10.1/user/install.html)\n",
    "\n",
    "    pip install numpy\n",
    "\n",
    "\n",
    "\n",
    "---\n",
    "\n"
   ]
  },
  {
   "cell_type": "markdown",
   "metadata": {
    "id": "aBWWgwakhgq4"
   },
   "source": [
    "# Import Numpy"
   ]
  },
  {
   "cell_type": "markdown",
   "metadata": {
    "id": "6aBSunzOhrIz"
   },
   "source": [
    "Once you've installed NumPy you can import it as a library:"
   ]
  },
  {
   "cell_type": "code",
   "execution_count": 1,
   "metadata": {
    "id": "B0bU9WVFhqeV"
   },
   "outputs": [],
   "source": [
    "import numpy as np"
   ]
  },
  {
   "cell_type": "markdown",
   "metadata": {
    "id": "HFFSyY__bU6s"
   },
   "source": [
    "# Numpy Arrays"
   ]
  },
  {
   "cell_type": "markdown",
   "metadata": {
    "id": "4fVj45bAii7E"
   },
   "source": [
    "NumPy arrays are the main way we will use Numpy throughout the course. Numpy arrays essentially come in two flavors: vectors and matrices.\n",
    "\n",
    "`Vectors` are strictly 1-d arrays.\n",
    "\n",
    "`Matrices` are 2-d (but you should note a matrix can still have only one row or one column).\n",
    "\n",
    "\n",
    "---\n",
    "\n"
   ]
  },
  {
   "cell_type": "markdown",
   "metadata": {
    "id": "FtsaBQV8jFBP"
   },
   "source": [
    "# Creating NumPy Arrays\n"
   ]
  },
  {
   "cell_type": "markdown",
   "metadata": {
    "id": "oGsZBBs9pwP_"
   },
   "source": [
    "Let's begin our introduction by exploring how to create NumPy arrays."
   ]
  },
  {
   "cell_type": "markdown",
   "metadata": {
    "id": "87LEqDbIjOnI"
   },
   "source": [
    "### From a Python List or Nested List"
   ]
  },
  {
   "cell_type": "markdown",
   "metadata": {
    "id": "A6S3w7pFprtq"
   },
   "source": [
    "`We can create an array by directly converting a list or list of lists`"
   ]
  },
  {
   "cell_type": "code",
   "execution_count": 2,
   "metadata": {
    "id": "Fq_tj37hq7Vw"
   },
   "outputs": [],
   "source": [
    "import numpy as np"
   ]
  },
  {
   "cell_type": "code",
   "execution_count": 3,
   "metadata": {
    "colab": {
     "base_uri": "https://localhost:8080/"
    },
    "executionInfo": {
     "elapsed": 36,
     "status": "ok",
     "timestamp": 1752677472221,
     "user": {
      "displayName": "Sara Albashtawi",
      "userId": "03921890274498340999"
     },
     "user_tz": -180
    },
    "id": "1ru9bog6bU6s",
    "outputId": "c6c001bc-5152-46cc-c86c-7a9f8e7a47b8"
   },
   "outputs": [
    {
     "name": "stdout",
     "output_type": "stream",
     "text": [
      "[1, 2, 3, 4, 5, 6]\n",
      "[1 2 3 4 5 6]\n"
     ]
    }
   ],
   "source": [
    "# From List\n",
    "\n",
    "my_list = [1,2,3,4,5,6]\n",
    "print(my_list)\n",
    "print(np.array(my_list))"
   ]
  },
  {
   "cell_type": "code",
   "execution_count": 4,
   "metadata": {
    "colab": {
     "base_uri": "https://localhost:8080/"
    },
    "executionInfo": {
     "elapsed": 19,
     "status": "ok",
     "timestamp": 1752677497306,
     "user": {
      "displayName": "Sara Albashtawi",
      "userId": "03921890274498340999"
     },
     "user_tz": -180
    },
    "id": "XmJy6q2HbU6t",
    "outputId": "4082be7f-f620-4314-8f45-d0b900f25316"
   },
   "outputs": [
    {
     "name": "stdout",
     "output_type": "stream",
     "text": [
      "[[1, 2, 3], [4, 5, 6]]\n",
      "[[1 2 3]\n",
      " [4 5 6]]\n"
     ]
    }
   ],
   "source": [
    "# From Nested List\n",
    "\n",
    "my_matrix = [[1,2,3],[4,5,6]]\n",
    "print(my_matrix)\n",
    "print(np.array(my_matrix))"
   ]
  },
  {
   "cell_type": "markdown",
   "metadata": {
    "id": "LLKgG_Vxj1im"
   },
   "source": [
    "Task #1:\n",
    "\n",
    "Create a NumPy array from a given list: [5, 10, 15, 20, 25].\n",
    "\n",
    "\n",
    "---\n",
    "\n"
   ]
  },
  {
   "cell_type": "code",
   "execution_count": 5,
   "metadata": {
    "id": "ZjPS6vkSj8P7"
   },
   "outputs": [
    {
     "name": "stdout",
     "output_type": "stream",
     "text": [
      "[ 5 10 15 20 25]\n"
     ]
    }
   ],
   "source": [
    "# Task 1\n",
    "\n",
    "list1 = [5,10,15,20,25]\n",
    "print(np.array(list1))"
   ]
  },
  {
   "cell_type": "code",
   "execution_count": 6,
   "metadata": {
    "colab": {
     "base_uri": "https://localhost:8080/"
    },
    "executionInfo": {
     "elapsed": 53,
     "status": "ok",
     "timestamp": 1752677640439,
     "user": {
      "displayName": "Sara Albashtawi",
      "userId": "03921890274498340999"
     },
     "user_tz": -180
    },
    "id": "rMd03BUrkPGY",
    "outputId": "e5dbf18e-0767-4a4a-ac63-bed7aadb9c20"
   },
   "outputs": [
    {
     "name": "stdout",
     "output_type": "stream",
     "text": [
      "[[1 2]\n",
      " [3 4]\n",
      " [5 6]]\n"
     ]
    }
   ],
   "source": [
    "my_list = [[1, 2], [3, 4], [5, 6]]\n",
    "np_array = np.array(my_list)\n",
    "\n",
    "print(np_array)"
   ]
  },
  {
   "cell_type": "markdown",
   "metadata": {
    "id": "MlfeHmyAj8s3"
   },
   "source": [
    "Task #2:\n",
    "\n",
    "Create a 3x5 NumPy array.\n",
    "\n",
    "\n",
    "---\n",
    "\n"
   ]
  },
  {
   "cell_type": "code",
   "execution_count": 8,
   "metadata": {},
   "outputs": [
    {
     "name": "stdout",
     "output_type": "stream",
     "text": [
      "[[ 5 10 15]\n",
      " [20 25 30]\n",
      " [35 40 45]\n",
      " [50 55 60]\n",
      " [65 70 75]]\n"
     ]
    }
   ],
   "source": [
    "# Task 2\n",
    "\n",
    "list1 = [[5,10,15],[20,25,30],[35,40,45],[50,55,60],[65,70,75]]\n",
    "array3_5 = np.array(list1)\n",
    "print(array3_5)"
   ]
  },
  {
   "cell_type": "code",
   "execution_count": 9,
   "metadata": {
    "colab": {
     "base_uri": "https://localhost:8080/"
    },
    "executionInfo": {
     "elapsed": 9,
     "status": "ok",
     "timestamp": 1752677835359,
     "user": {
      "displayName": "Sara Albashtawi",
      "userId": "03921890274498340999"
     },
     "user_tz": -180
    },
    "id": "4ygDixMqkSDC",
    "outputId": "f5777ce1-571b-4055-8e11-0a0949374ce8"
   },
   "outputs": [
    {
     "name": "stdout",
     "output_type": "stream",
     "text": [
      "[[ 1  2  3  4  5]\n",
      " [ 6  7  8  9 10]\n",
      " [11 12 13 14 15]]\n"
     ]
    }
   ],
   "source": [
    "arr = np.array([[1, 2, 3, 4, 5],\n",
    "                [6, 7, 8, 9, 10],\n",
    "                [11, 12, 13, 14, 15]])\n",
    "print(arr)"
   ]
  },
  {
   "cell_type": "markdown",
   "metadata": {
    "id": "iFd1jo34bU6t"
   },
   "source": [
    "### From Built-in Methods"
   ]
  },
  {
   "cell_type": "markdown",
   "metadata": {
    "id": "rxZhRqRekips"
   },
   "source": [
    "There are lots of built-in ways to generate Arrays"
   ]
  },
  {
   "cell_type": "markdown",
   "metadata": {
    "id": "5toah_tBbU6u"
   },
   "source": [
    "#### arange\n",
    "\n"
   ]
  },
  {
   "cell_type": "markdown",
   "metadata": {
    "id": "rZ6ZaQwJlhP_"
   },
   "source": [
    "`Return evenly spaced values within a given interval.`"
   ]
  },
  {
   "cell_type": "code",
   "execution_count": 10,
   "metadata": {
    "colab": {
     "base_uri": "https://localhost:8080/"
    },
    "executionInfo": {
     "elapsed": 48,
     "status": "ok",
     "timestamp": 1752677875777,
     "user": {
      "displayName": "Sara Albashtawi",
      "userId": "03921890274498340999"
     },
     "user_tz": -180
    },
    "id": "tO7OGUHxbU6u",
    "outputId": "75270a39-ee1f-470e-f9e2-27a476c5cc1d"
   },
   "outputs": [
    {
     "data": {
      "text/plain": [
       "array([0, 1, 2, 3, 4, 5, 6, 7, 8, 9])"
      ]
     },
     "execution_count": 10,
     "metadata": {},
     "output_type": "execute_result"
    }
   ],
   "source": [
    "# (Start, End)\n",
    "np.arange(0,10)"
   ]
  },
  {
   "cell_type": "code",
   "execution_count": null,
   "metadata": {
    "colab": {
     "base_uri": "https://localhost:8080/"
    },
    "executionInfo": {
     "elapsed": 41,
     "status": "ok",
     "timestamp": 1752677885663,
     "user": {
      "displayName": "Sara Albashtawi",
      "userId": "03921890274498340999"
     },
     "user_tz": -180
    },
    "id": "kvR3YfgrbU6u",
    "outputId": "d28da866-72cc-4ad0-8ef3-ab3ca124101a"
   },
   "outputs": [
    {
     "data": {
      "text/plain": [
       "array([0, 3, 6, 9])"
      ]
     },
     "execution_count": 7,
     "metadata": {},
     "output_type": "execute_result"
    }
   ],
   "source": [
    "# (Start, End, Step)\n",
    "np.arange(0,11,3)"
   ]
  },
  {
   "cell_type": "markdown",
   "metadata": {
    "id": "2R4XUPRpbU6u"
   },
   "source": [
    "#### zeros and ones"
   ]
  },
  {
   "cell_type": "markdown",
   "metadata": {
    "id": "Wo66K0Vklb2Z"
   },
   "source": [
    "`Generate arrays of zeros or ones`"
   ]
  },
  {
   "cell_type": "code",
   "execution_count": null,
   "metadata": {
    "colab": {
     "base_uri": "https://localhost:8080/"
    },
    "executionInfo": {
     "elapsed": 8,
     "status": "ok",
     "timestamp": 1752677902924,
     "user": {
      "displayName": "Sara Albashtawi",
      "userId": "03921890274498340999"
     },
     "user_tz": -180
    },
    "id": "1ucLpuHzbU6u",
    "outputId": "96c7ab5f-6816-4e2d-8fa1-6b367fba599d"
   },
   "outputs": [
    {
     "data": {
      "text/plain": [
       "array([0., 0., 0.])"
      ]
     },
     "execution_count": 8,
     "metadata": {},
     "output_type": "execute_result"
    }
   ],
   "source": [
    "np.zeros(3)           # One raw"
   ]
  },
  {
   "cell_type": "code",
   "execution_count": null,
   "metadata": {
    "colab": {
     "base_uri": "https://localhost:8080/"
    },
    "executionInfo": {
     "elapsed": 44,
     "status": "ok",
     "timestamp": 1752677921430,
     "user": {
      "displayName": "Sara Albashtawi",
      "userId": "03921890274498340999"
     },
     "user_tz": -180
    },
    "id": "N26N4CP4bU6u",
    "outputId": "a71d6f47-26a5-4aa8-9233-e8ec8a0f49e1"
   },
   "outputs": [
    {
     "data": {
      "text/plain": [
       "array([[0., 0., 0., 0., 0.],\n",
       "       [0., 0., 0., 0., 0.],\n",
       "       [0., 0., 0., 0., 0.],\n",
       "       [0., 0., 0., 0., 0.]])"
      ]
     },
     "execution_count": 9,
     "metadata": {},
     "output_type": "execute_result"
    }
   ],
   "source": [
    "np.zeros((4,5))       # Multi raws and columns"
   ]
  },
  {
   "cell_type": "code",
   "execution_count": null,
   "metadata": {
    "colab": {
     "base_uri": "https://localhost:8080/"
    },
    "executionInfo": {
     "elapsed": 12,
     "status": "ok",
     "timestamp": 1752677931083,
     "user": {
      "displayName": "Sara Albashtawi",
      "userId": "03921890274498340999"
     },
     "user_tz": -180
    },
    "id": "6qctvKIabU6u",
    "outputId": "c0fae16c-f853-487e-d149-435189f96223"
   },
   "outputs": [
    {
     "data": {
      "text/plain": [
       "array([1., 1., 1.])"
      ]
     },
     "execution_count": 10,
     "metadata": {},
     "output_type": "execute_result"
    }
   ],
   "source": [
    "np.ones(3)            # One raw"
   ]
  },
  {
   "cell_type": "code",
   "execution_count": null,
   "metadata": {
    "colab": {
     "base_uri": "https://localhost:8080/"
    },
    "executionInfo": {
     "elapsed": 8,
     "status": "ok",
     "timestamp": 1752677940136,
     "user": {
      "displayName": "Sara Albashtawi",
      "userId": "03921890274498340999"
     },
     "user_tz": -180
    },
    "id": "KJhz93d6bU6u",
    "outputId": "7e6553b5-bbb4-430f-f1b3-ed3bd21d3332"
   },
   "outputs": [
    {
     "data": {
      "text/plain": [
       "array([[1., 1., 1.],\n",
       "       [1., 1., 1.],\n",
       "       [1., 1., 1.]])"
      ]
     },
     "execution_count": 11,
     "metadata": {},
     "output_type": "execute_result"
    }
   ],
   "source": [
    "np.ones((3,3))        # Multi raws and columns"
   ]
  },
  {
   "cell_type": "code",
   "execution_count": null,
   "metadata": {
    "colab": {
     "base_uri": "https://localhost:8080/"
    },
    "executionInfo": {
     "elapsed": 12,
     "status": "ok",
     "timestamp": 1752677949077,
     "user": {
      "displayName": "Sara Albashtawi",
      "userId": "03921890274498340999"
     },
     "user_tz": -180
    },
    "id": "GxMdH1nmuD8l",
    "outputId": "c4feb4c7-8635-4be0-9a51-bae4ea80f277"
   },
   "outputs": [
    {
     "data": {
      "text/plain": [
       "array([[1.],\n",
       "       [1.],\n",
       "       [1.],\n",
       "       [1.],\n",
       "       [1.]])"
      ]
     },
     "execution_count": 12,
     "metadata": {},
     "output_type": "execute_result"
    }
   ],
   "source": [
    "np.ones((5,1))        # One column"
   ]
  },
  {
   "cell_type": "markdown",
   "metadata": {
    "id": "6rsnO9z1bU6u"
   },
   "source": [
    "#### linspace\n"
   ]
  },
  {
   "cell_type": "markdown",
   "metadata": {
    "id": "soGXshfKlQoc"
   },
   "source": [
    "`Return evenly spaced numbers over a specified interval.`"
   ]
  },
  {
   "cell_type": "code",
   "execution_count": null,
   "metadata": {
    "colab": {
     "base_uri": "https://localhost:8080/"
    },
    "executionInfo": {
     "elapsed": 47,
     "status": "ok",
     "timestamp": 1752677983995,
     "user": {
      "displayName": "Sara Albashtawi",
      "userId": "03921890274498340999"
     },
     "user_tz": -180
    },
    "id": "c9PCAvyIbU6u",
    "outputId": "0ea09164-763d-4963-8868-137b59ba5d6b"
   },
   "outputs": [
    {
     "data": {
      "text/plain": [
       "array([ 0. ,  2.5,  5. ,  7.5, 10. ])"
      ]
     },
     "execution_count": 13,
     "metadata": {},
     "output_type": "execute_result"
    }
   ],
   "source": [
    "#That is, print an array that starts with 0 and ends with 10, provided that it contains 5 numbers\n",
    "np.linspace(0,10,5)     # Here the end is printed"
   ]
  },
  {
   "cell_type": "code",
   "execution_count": null,
   "metadata": {
    "colab": {
     "base_uri": "https://localhost:8080/"
    },
    "executionInfo": {
     "elapsed": 23,
     "status": "ok",
     "timestamp": 1752677995617,
     "user": {
      "displayName": "Sara Albashtawi",
      "userId": "03921890274498340999"
     },
     "user_tz": -180
    },
    "id": "z8zNCc7cbU6v",
    "outputId": "6f0fe72f-285e-45b8-f299-9ccc4d749d92"
   },
   "outputs": [
    {
     "data": {
      "text/plain": [
       "array([ 0. ,  0.5,  1. ,  1.5,  2. ,  2.5,  3. ,  3.5,  4. ,  4.5,  5. ,\n",
       "        5.5,  6. ,  6.5,  7. ,  7.5,  8. ,  8.5,  9. ,  9.5, 10. ])"
      ]
     },
     "execution_count": 14,
     "metadata": {},
     "output_type": "execute_result"
    }
   ],
   "source": [
    "np.linspace(0,10,21)"
   ]
  },
  {
   "cell_type": "markdown",
   "metadata": {
    "id": "WTMtwfxrbU6v"
   },
   "source": [
    "#### eye"
   ]
  },
  {
   "cell_type": "markdown",
   "metadata": {
    "id": "FzVYpXvYlwsj"
   },
   "source": [
    "`Creates an identity matrix`"
   ]
  },
  {
   "cell_type": "code",
   "execution_count": null,
   "metadata": {
    "colab": {
     "base_uri": "https://localhost:8080/"
    },
    "executionInfo": {
     "elapsed": 16,
     "status": "ok",
     "timestamp": 1752678020331,
     "user": {
      "displayName": "Sara Albashtawi",
      "userId": "03921890274498340999"
     },
     "user_tz": -180
    },
    "id": "KPxNrKfJ8tSw",
    "outputId": "2c1bdc2f-80db-45df-96fb-9fe676ff5669"
   },
   "outputs": [
    {
     "data": {
      "text/plain": [
       "(0, 0, 1)"
      ]
     },
     "execution_count": 15,
     "metadata": {},
     "output_type": "execute_result"
    }
   ],
   "source": [
    "# Identity matrix: sometimes called a unit matrix, is a diagonal matrix with all its diagonal elements equal to 1 , and zeroes everywhere else.\n",
    "1 , 0 , 0\n",
    "0 , 1 , 0\n",
    "0 , 0 , 1"
   ]
  },
  {
   "cell_type": "code",
   "execution_count": null,
   "metadata": {
    "colab": {
     "base_uri": "https://localhost:8080/"
    },
    "executionInfo": {
     "elapsed": 9,
     "status": "ok",
     "timestamp": 1752678025115,
     "user": {
      "displayName": "Sara Albashtawi",
      "userId": "03921890274498340999"
     },
     "user_tz": -180
    },
    "id": "Ytea5ArNbU6v",
    "outputId": "832d0a93-d23e-43ad-9c77-3ca90e049a8c"
   },
   "outputs": [
    {
     "data": {
      "text/plain": [
       "array([[1., 0., 0., 0.],\n",
       "       [0., 1., 0., 0.],\n",
       "       [0., 0., 1., 0.],\n",
       "       [0., 0., 0., 1.]])"
      ]
     },
     "execution_count": 16,
     "metadata": {},
     "output_type": "execute_result"
    }
   ],
   "source": [
    "np.eye(4)"
   ]
  },
  {
   "cell_type": "code",
   "execution_count": null,
   "metadata": {
    "colab": {
     "base_uri": "https://localhost:8080/"
    },
    "executionInfo": {
     "elapsed": 18,
     "status": "ok",
     "timestamp": 1752678039157,
     "user": {
      "displayName": "Sara Albashtawi",
      "userId": "03921890274498340999"
     },
     "user_tz": -180
    },
    "id": "Cb5oy6tPvh2F",
    "outputId": "746d8a20-c3bb-44ca-84af-cb64015810a3"
   },
   "outputs": [
    {
     "data": {
      "text/plain": [
       "array([[1., 0., 0., 0.],\n",
       "       [0., 1., 0., 0.],\n",
       "       [0., 0., 1., 0.],\n",
       "       [0., 0., 0., 1.]])"
      ]
     },
     "execution_count": 17,
     "metadata": {},
     "output_type": "execute_result"
    }
   ],
   "source": [
    "np.identity(4)"
   ]
  },
  {
   "cell_type": "markdown",
   "metadata": {
    "id": "MXwLz8tBmAbp"
   },
   "source": [
    "#### Built-in Methods Tasks"
   ]
  },
  {
   "cell_type": "markdown",
   "metadata": {
    "id": "yBUZped4mOV5"
   },
   "source": [
    "Task #3:\n",
    "\n",
    "Generate an array of 10 even numbers starting from 2."
   ]
  },
  {
   "cell_type": "code",
   "execution_count": 12,
   "metadata": {},
   "outputs": [
    {
     "name": "stdout",
     "output_type": "stream",
     "text": [
      "[ 2  4  6  8 10]\n"
     ]
    }
   ],
   "source": [
    "# Task 3\n",
    "\n",
    "arr_even = np.arange(2,11,2)\n",
    "print(arr_even)"
   ]
  },
  {
   "cell_type": "code",
   "execution_count": 13,
   "metadata": {
    "colab": {
     "base_uri": "https://localhost:8080/"
    },
    "executionInfo": {
     "elapsed": 10,
     "status": "ok",
     "timestamp": 1752678351516,
     "user": {
      "displayName": "Sara Albashtawi",
      "userId": "03921890274498340999"
     },
     "user_tz": -180
    },
    "id": "bNuEIUbumULt",
    "outputId": "4834008a-8253-4f10-9647-330df92f4e32"
   },
   "outputs": [
    {
     "name": "stdout",
     "output_type": "stream",
     "text": [
      "[ 0  2  4  6  8 10 12 14 16 18 20]\n"
     ]
    }
   ],
   "source": [
    "arr = np.arange(0, 21,2)\n",
    "print(arr)"
   ]
  },
  {
   "cell_type": "markdown",
   "metadata": {
    "id": "hWuR9D2tmVnE"
   },
   "source": [
    "Task #4:\n",
    "\n",
    "Create a 4x4 matrix filled with zeros."
   ]
  },
  {
   "cell_type": "code",
   "execution_count": 15,
   "metadata": {
    "colab": {
     "base_uri": "https://localhost:8080/"
    },
    "executionInfo": {
     "elapsed": 54,
     "status": "ok",
     "timestamp": 1752678699587,
     "user": {
      "displayName": "Sara Albashtawi",
      "userId": "03921890274498340999"
     },
     "user_tz": -180
    },
    "id": "9Oq-k0HCmfRa",
    "outputId": "2af45b1d-0447-4149-aa23-e54239edadb6"
   },
   "outputs": [
    {
     "data": {
      "text/plain": [
       "array([[0., 0., 0., 0.],\n",
       "       [0., 0., 0., 0.],\n",
       "       [0., 0., 0., 0.],\n",
       "       [0., 0., 0., 0.]])"
      ]
     },
     "execution_count": 15,
     "metadata": {},
     "output_type": "execute_result"
    }
   ],
   "source": [
    "# Task 4\n",
    "np.zeros((4,4))"
   ]
  },
  {
   "cell_type": "markdown",
   "metadata": {
    "id": "oRcK4kUfmeoF"
   },
   "source": [
    "Task #5:\n",
    "\n",
    "Create a vector of 5 ones."
   ]
  },
  {
   "cell_type": "code",
   "execution_count": 17,
   "metadata": {
    "colab": {
     "base_uri": "https://localhost:8080/"
    },
    "executionInfo": {
     "elapsed": 10,
     "status": "ok",
     "timestamp": 1752678712038,
     "user": {
      "displayName": "Sara Albashtawi",
      "userId": "03921890274498340999"
     },
     "user_tz": -180
    },
    "id": "4HJGcHoFmrNa",
    "outputId": "9f4219b5-482d-47d2-89aa-69b0f9ae9331"
   },
   "outputs": [
    {
     "data": {
      "text/plain": [
       "array([1., 1., 1., 1., 1.])"
      ]
     },
     "execution_count": 17,
     "metadata": {},
     "output_type": "execute_result"
    }
   ],
   "source": [
    "# Task 5\n",
    "np.ones(5)"
   ]
  },
  {
   "cell_type": "markdown",
   "metadata": {
    "id": "9Jg-zDP3msIA"
   },
   "source": [
    "Task #6:\n",
    "\n",
    "Generate 6 evenly spaced numbers between 0 and 30."
   ]
  },
  {
   "cell_type": "code",
   "execution_count": 19,
   "metadata": {
    "colab": {
     "base_uri": "https://localhost:8080/"
    },
    "executionInfo": {
     "elapsed": 6,
     "status": "ok",
     "timestamp": 1752678727658,
     "user": {
      "displayName": "Sara Albashtawi",
      "userId": "03921890274498340999"
     },
     "user_tz": -180
    },
    "id": "4k94mXP6mu_c",
    "outputId": "9209ffca-9da0-4ee8-dec2-bbd7a4a006dc"
   },
   "outputs": [
    {
     "data": {
      "text/plain": [
       "array([ 0.,  6., 12., 18., 24., 30.])"
      ]
     },
     "execution_count": 19,
     "metadata": {},
     "output_type": "execute_result"
    }
   ],
   "source": [
    "# Task 6\n",
    "np.linspace(0,30,6)"
   ]
  },
  {
   "cell_type": "markdown",
   "metadata": {
    "id": "WdTGZhE2mxjZ"
   },
   "source": [
    "Task #7:\n",
    "\n",
    "Create a 3x3 identity matrix"
   ]
  },
  {
   "cell_type": "code",
   "execution_count": 20,
   "metadata": {
    "colab": {
     "base_uri": "https://localhost:8080/"
    },
    "executionInfo": {
     "elapsed": 6,
     "status": "ok",
     "timestamp": 1752678741816,
     "user": {
      "displayName": "Sara Albashtawi",
      "userId": "03921890274498340999"
     },
     "user_tz": -180
    },
    "id": "xi1ek3FZm1yD",
    "outputId": "0ea8db4d-714f-4539-ce31-f583f92ca73b"
   },
   "outputs": [
    {
     "data": {
      "text/plain": [
       "array([[1., 0., 0.],\n",
       "       [0., 1., 0.],\n",
       "       [0., 0., 1.]])"
      ]
     },
     "execution_count": 20,
     "metadata": {},
     "output_type": "execute_result"
    }
   ],
   "source": [
    "# Task 7\n",
    "np.eye(3)"
   ]
  },
  {
   "cell_type": "markdown",
   "metadata": {
    "id": "BMuQSri9bU6v"
   },
   "source": [
    "### From Random Built-in Methods"
   ]
  },
  {
   "cell_type": "markdown",
   "metadata": {
    "id": "jztk6X5enHbK"
   },
   "source": [
    "Numpy also has lots of ways to create random number arrays:"
   ]
  },
  {
   "cell_type": "markdown",
   "metadata": {
    "id": "hJc31BQGnKom"
   },
   "source": [
    "#### rand"
   ]
  },
  {
   "cell_type": "markdown",
   "metadata": {
    "id": "iKci3UAHnNH-"
   },
   "source": [
    "``Create an array of the given shape and populate it with random samples from a uniform distribution\n",
    "over [0, 1).``\n",
    "\n",
    "\n"
   ]
  },
  {
   "cell_type": "code",
   "execution_count": 21,
   "metadata": {
    "id": "R2_QwKjWsPPT"
   },
   "outputs": [],
   "source": [
    "import numpy as np"
   ]
  },
  {
   "cell_type": "code",
   "execution_count": 22,
   "metadata": {
    "colab": {
     "base_uri": "https://localhost:8080/"
    },
    "executionInfo": {
     "elapsed": 36,
     "status": "ok",
     "timestamp": 1752678765491,
     "user": {
      "displayName": "Sara Albashtawi",
      "userId": "03921890274498340999"
     },
     "user_tz": -180
    },
    "id": "LTAjhdrMbU6v",
    "outputId": "d76c4ba0-fda6-4dc3-a3d4-12aca55dd217"
   },
   "outputs": [
    {
     "data": {
      "text/plain": [
       "array([0.72095158, 0.93817132])"
      ]
     },
     "execution_count": 22,
     "metadata": {},
     "output_type": "execute_result"
    }
   ],
   "source": [
    "np.random.rand(2)"
   ]
  },
  {
   "cell_type": "code",
   "execution_count": 23,
   "metadata": {
    "colab": {
     "base_uri": "https://localhost:8080/"
    },
    "executionInfo": {
     "elapsed": 27,
     "status": "ok",
     "timestamp": 1752678783895,
     "user": {
      "displayName": "Sara Albashtawi",
      "userId": "03921890274498340999"
     },
     "user_tz": -180
    },
    "id": "_J-T0DMqbU6v",
    "outputId": "346bc3b2-7d05-418a-9a29-09e651b50422"
   },
   "outputs": [
    {
     "data": {
      "text/plain": [
       "array([[0.93496993, 0.80060848, 0.72977245, 0.10934926, 0.84826152],\n",
       "       [0.63238295, 0.77569251, 0.09073845, 0.87786702, 0.55832662]])"
      ]
     },
     "execution_count": 23,
     "metadata": {},
     "output_type": "execute_result"
    }
   ],
   "source": [
    "np.random.rand(2,5)"
   ]
  },
  {
   "cell_type": "markdown",
   "metadata": {
    "id": "DCdvycv5bU6v"
   },
   "source": [
    "#### randn"
   ]
  },
  {
   "cell_type": "markdown",
   "metadata": {
    "id": "-8Yn4CfNoX8w"
   },
   "source": [
    "`Return a sample (or samples) from the \"standard normal\" distribution. Unlike rand which is uniform:`"
   ]
  },
  {
   "cell_type": "code",
   "execution_count": null,
   "metadata": {
    "colab": {
     "base_uri": "https://localhost:8080/"
    },
    "executionInfo": {
     "elapsed": 44,
     "status": "ok",
     "timestamp": 1752678820131,
     "user": {
      "displayName": "Sara Albashtawi",
      "userId": "03921890274498340999"
     },
     "user_tz": -180
    },
    "id": "ljulk-MNbU6v",
    "outputId": "adadef57-9809-4217-bf0a-c147626fcac3"
   },
   "outputs": [
    {
     "data": {
      "text/plain": [
       "array([-0.84410052, -0.2726015 ])"
      ]
     },
     "execution_count": 30,
     "metadata": {},
     "output_type": "execute_result"
    }
   ],
   "source": [
    "np.random.randn(2)"
   ]
  },
  {
   "cell_type": "code",
   "execution_count": 24,
   "metadata": {
    "colab": {
     "base_uri": "https://localhost:8080/"
    },
    "executionInfo": {
     "elapsed": 29,
     "status": "ok",
     "timestamp": 1752678825669,
     "user": {
      "displayName": "Sara Albashtawi",
      "userId": "03921890274498340999"
     },
     "user_tz": -180
    },
    "id": "VfBcFYxnbU6v",
    "outputId": "5ae0fd41-7925-42c1-fa44-158b70e65b0c"
   },
   "outputs": [
    {
     "data": {
      "text/plain": [
       "array([[ 1.21266089, -0.05191987],\n",
       "       [ 1.03311618, -0.18398131],\n",
       "       [ 0.25500933, -0.64219001],\n",
       "       [ 0.04826151, -0.51044358],\n",
       "       [ 0.66827111,  0.0351285 ]])"
      ]
     },
     "execution_count": 24,
     "metadata": {},
     "output_type": "execute_result"
    }
   ],
   "source": [
    "np.random.randn(5,2)"
   ]
  },
  {
   "cell_type": "markdown",
   "metadata": {
    "id": "kU_7duN0bU6v"
   },
   "source": [
    "#### randint"
   ]
  },
  {
   "cell_type": "markdown",
   "metadata": {
    "id": "cgWyDUZYohpQ"
   },
   "source": [
    "`Return random integers from **low** (inclusive) to **high** (exclusive).`"
   ]
  },
  {
   "cell_type": "code",
   "execution_count": 25,
   "metadata": {
    "colab": {
     "base_uri": "https://localhost:8080/"
    },
    "executionInfo": {
     "elapsed": 21,
     "status": "ok",
     "timestamp": 1752678835492,
     "user": {
      "displayName": "Sara Albashtawi",
      "userId": "03921890274498340999"
     },
     "user_tz": -180
    },
    "id": "Jf74NJc6bU6v",
    "outputId": "de2750b3-791a-42f7-9ec0-1c655a47b919"
   },
   "outputs": [
    {
     "data": {
      "text/plain": [
       "array([35, 21, 46, 21, 96], dtype=int32)"
      ]
     },
     "execution_count": 25,
     "metadata": {},
     "output_type": "execute_result"
    }
   ],
   "source": [
    "np.random.randint(1,100,5)"
   ]
  },
  {
   "cell_type": "code",
   "execution_count": 26,
   "metadata": {
    "colab": {
     "base_uri": "https://localhost:8080/"
    },
    "executionInfo": {
     "elapsed": 62,
     "status": "ok",
     "timestamp": 1752678890005,
     "user": {
      "displayName": "Sara Albashtawi",
      "userId": "03921890274498340999"
     },
     "user_tz": -180
    },
    "id": "LLpAo_KvbU6v",
    "outputId": "e3395aac-ca31-46b3-ff30-7e0b5c412f8e"
   },
   "outputs": [
    {
     "data": {
      "text/plain": [
       "array([[59, 97, 87, 34, 96,  5, 85, 69, 82, 53],\n",
       "       [54, 69, 13, 41, 81, 11, 67, 47, 15, 40],\n",
       "       [55, 70, 64,  1, 92, 29, 96, 42, 91, 11],\n",
       "       [35, 27,  5, 63, 47, 34, 70, 25,  2, 47]], dtype=int32)"
      ]
     },
     "execution_count": 26,
     "metadata": {},
     "output_type": "execute_result"
    }
   ],
   "source": [
    "np.random.randint(1,100,(4,10))"
   ]
  },
  {
   "cell_type": "markdown",
   "metadata": {
    "id": "SJRXUJnaoqhM"
   },
   "source": [
    "#### Random Built-in Methods Tasks"
   ]
  },
  {
   "cell_type": "markdown",
   "metadata": {
    "id": "6GCOlVO7o1MB"
   },
   "source": [
    "Task #8:\n",
    "\n",
    "Create an array of 5 random numbers from the uniform distribution."
   ]
  },
  {
   "cell_type": "code",
   "execution_count": 29,
   "metadata": {
    "id": "8eDXvCcQo-4K"
   },
   "outputs": [
    {
     "data": {
      "text/plain": [
       "array([0.56590392, 0.28396497, 0.5961023 , 0.92470611, 0.6506015 ])"
      ]
     },
     "execution_count": 29,
     "metadata": {},
     "output_type": "execute_result"
    }
   ],
   "source": [
    "# Task 8\n",
    "\n",
    "raand = np.random.rand(5)\n",
    "raand"
   ]
  },
  {
   "cell_type": "markdown",
   "metadata": {
    "id": "D1v-Rj-ko_Qn"
   },
   "source": [
    "Task #9:\n",
    "\n",
    "Create a 3x3 matrix of random numbers from the standard normal distribution."
   ]
  },
  {
   "cell_type": "code",
   "execution_count": 31,
   "metadata": {
    "id": "B-LdSd96pEA4"
   },
   "outputs": [
    {
     "data": {
      "text/plain": [
       "array([[-0.55131337,  1.04556426, -1.53056923],\n",
       "       [ 2.22428911,  0.54717354, -0.79611119],\n",
       "       [ 0.44952148, -0.30913312, -1.10751714]])"
      ]
     },
     "execution_count": 31,
     "metadata": {},
     "output_type": "execute_result"
    }
   ],
   "source": [
    "# Task 9\n",
    "raand1 = np.random.randn(3,3)\n",
    "raand1"
   ]
  },
  {
   "cell_type": "markdown",
   "metadata": {
    "id": "tgK-U0N4pGaJ"
   },
   "source": [
    "Task #10:\n",
    "\n",
    "Generate 5*5 random integers between 10 and 50."
   ]
  },
  {
   "cell_type": "code",
   "execution_count": 42,
   "metadata": {
    "id": "bK0ee6uipJDH"
   },
   "outputs": [
    {
     "data": {
      "text/plain": [
       "array([[46, 48, 29, 19, 45],\n",
       "       [20, 40, 46, 36, 25],\n",
       "       [33, 10, 29, 17, 19],\n",
       "       [18, 42, 19, 16, 40],\n",
       "       [13, 42, 43, 19, 23]], dtype=int32)"
      ]
     },
     "execution_count": 42,
     "metadata": {},
     "output_type": "execute_result"
    }
   ],
   "source": [
    "# Task 10\n",
    "raand_int = np.random.randint(10,50,(5,5))\n",
    "raand_int"
   ]
  },
  {
   "cell_type": "markdown",
   "metadata": {
    "id": "OoC_aBflpbS1"
   },
   "source": [
    "# Size, Shape and Reshape"
   ]
  },
  {
   "cell_type": "markdown",
   "metadata": {
    "id": "HJUzD_XgbU60"
   },
   "source": [
    "## Size"
   ]
  },
  {
   "cell_type": "code",
   "execution_count": 35,
   "metadata": {
    "id": "2Wc9BhmDqbpX"
   },
   "outputs": [],
   "source": [
    "arr_1 = np.random.randint(10, 20, (5,5), dtype=int)"
   ]
  },
  {
   "cell_type": "code",
   "execution_count": 36,
   "metadata": {
    "colab": {
     "base_uri": "https://localhost:8080/"
    },
    "executionInfo": {
     "elapsed": 26,
     "status": "ok",
     "timestamp": 1752679387973,
     "user": {
      "displayName": "Sara Albashtawi",
      "userId": "03921890274498340999"
     },
     "user_tz": -180
    },
    "id": "Xvd0o9YjyzlT",
    "outputId": "c04f1fe6-2940-4bbd-e554-e69b3c40cf9e"
   },
   "outputs": [
    {
     "data": {
      "text/plain": [
       "array([[15, 13, 11, 10, 11],\n",
       "       [13, 18, 16, 17, 11],\n",
       "       [17, 17, 14, 16, 19],\n",
       "       [14, 18, 18, 15, 17],\n",
       "       [14, 15, 18, 13, 14]], dtype=int32)"
      ]
     },
     "execution_count": 36,
     "metadata": {},
     "output_type": "execute_result"
    }
   ],
   "source": [
    "arr_1"
   ]
  },
  {
   "cell_type": "code",
   "execution_count": 37,
   "metadata": {
    "colab": {
     "base_uri": "https://localhost:8080/"
    },
    "executionInfo": {
     "elapsed": 31,
     "status": "ok",
     "timestamp": 1752679402520,
     "user": {
      "displayName": "Sara Albashtawi",
      "userId": "03921890274498340999"
     },
     "user_tz": -180
    },
    "id": "E2HhAy6Ks0va",
    "outputId": "f2fb5625-5561-44fd-93a2-45f3376dc2e6"
   },
   "outputs": [
    {
     "data": {
      "text/plain": [
       "25"
      ]
     },
     "execution_count": 37,
     "metadata": {},
     "output_type": "execute_result"
    }
   ],
   "source": [
    "arr_1.size"
   ]
  },
  {
   "cell_type": "markdown",
   "metadata": {
    "id": "OhoHqz6qs6kt"
   },
   "source": [
    "## Shape"
   ]
  },
  {
   "cell_type": "markdown",
   "metadata": {
    "id": "6QLZXOuGtFdB"
   },
   "source": [
    "`Shape is an attribute that arrays have (not a method)`"
   ]
  },
  {
   "cell_type": "code",
   "execution_count": 38,
   "metadata": {
    "colab": {
     "base_uri": "https://localhost:8080/"
    },
    "executionInfo": {
     "elapsed": 56,
     "status": "ok",
     "timestamp": 1752679424917,
     "user": {
      "displayName": "Sara Albashtawi",
      "userId": "03921890274498340999"
     },
     "user_tz": -180
    },
    "id": "0dk9aujUbU60",
    "outputId": "738d85e6-5009-404d-fc96-71a37e2807db"
   },
   "outputs": [
    {
     "data": {
      "text/plain": [
       "(5, 5)"
      ]
     },
     "execution_count": 38,
     "metadata": {},
     "output_type": "execute_result"
    }
   ],
   "source": [
    "arr_1.shape"
   ]
  },
  {
   "cell_type": "markdown",
   "metadata": {
    "id": "N-8akYXnrSFU"
   },
   "source": [
    "## Reshape"
   ]
  },
  {
   "cell_type": "code",
   "execution_count": 39,
   "metadata": {
    "colab": {
     "base_uri": "https://localhost:8080/"
    },
    "executionInfo": {
     "elapsed": 32,
     "status": "ok",
     "timestamp": 1752679443699,
     "user": {
      "displayName": "Sara Albashtawi",
      "userId": "03921890274498340999"
     },
     "user_tz": -180
    },
    "id": "uLKOoaasbU60",
    "outputId": "399ccdf2-d5d4-47bf-9389-74384b4f1a63"
   },
   "outputs": [
    {
     "data": {
      "text/plain": [
       "array([[15, 13, 11, 10, 11, 13, 18, 16, 17, 11, 17, 17, 14, 16, 19, 14,\n",
       "        18, 18, 15, 17, 14, 15, 18, 13, 14]], dtype=int32)"
      ]
     },
     "execution_count": 39,
     "metadata": {},
     "output_type": "execute_result"
    }
   ],
   "source": [
    "arr_1.reshape(1,25)"
   ]
  },
  {
   "cell_type": "code",
   "execution_count": 40,
   "metadata": {
    "colab": {
     "base_uri": "https://localhost:8080/"
    },
    "executionInfo": {
     "elapsed": 10,
     "status": "ok",
     "timestamp": 1752679462864,
     "user": {
      "displayName": "Sara Albashtawi",
      "userId": "03921890274498340999"
     },
     "user_tz": -180
    },
    "id": "1uUnlqXhbU60",
    "outputId": "8ed2ac93-6771-4344-fb97-a30a1717cab9"
   },
   "outputs": [
    {
     "data": {
      "text/plain": [
       "(1, 25)"
      ]
     },
     "execution_count": 40,
     "metadata": {},
     "output_type": "execute_result"
    }
   ],
   "source": [
    "arr_1.reshape(1,25).shape"
   ]
  },
  {
   "cell_type": "markdown",
   "metadata": {
    "id": "zUXPEiBmzAqc"
   },
   "source": [
    "Task #11:\n",
    "\n",
    "Generate an array of 12 numbers and then reshape it into a 3x4 matrix."
   ]
  },
  {
   "cell_type": "code",
   "execution_count": 44,
   "metadata": {
    "colab": {
     "base_uri": "https://localhost:8080/"
    },
    "executionInfo": {
     "elapsed": 19,
     "status": "ok",
     "timestamp": 1752679653973,
     "user": {
      "displayName": "Sara Albashtawi",
      "userId": "03921890274498340999"
     },
     "user_tz": -180
    },
    "id": "R-8UoRm2wmWw",
    "outputId": "cd08693e-acab-40a9-984b-82a80f83a925"
   },
   "outputs": [
    {
     "name": "stdout",
     "output_type": "stream",
     "text": [
      "[16 39 15 26 10  3 47 18 17 34 25 36]\n",
      "Shape:  (12,)\n",
      "Reshaped Array: \n",
      " [[16 39 15 26]\n",
      " [10  3 47 18]\n",
      " [17 34 25 36]]\n"
     ]
    }
   ],
   "source": [
    "# Task 11\n",
    "arr_1 = np.random.randint(1, 50, 12, dtype=int)\n",
    "print(arr_1)\n",
    "print(\"Shape: \", arr_1.shape)\n",
    "print(\"Reshaped Array: \\n\",arr_1.reshape(3,4))"
   ]
  },
  {
   "cell_type": "markdown",
   "metadata": {
    "id": "7bZPozkjzWxR"
   },
   "source": [
    "# Built-in Methods"
   ]
  },
  {
   "cell_type": "markdown",
   "metadata": {
    "id": "iB6UWDe9zeVc"
   },
   "source": [
    "## max, min, argmax, argmin"
   ]
  },
  {
   "cell_type": "markdown",
   "metadata": {
    "id": "AD7Liud8zdVz"
   },
   "source": [
    "These are useful methods for finding max or min values. Or to find their index locations using argmin or argmax"
   ]
  },
  {
   "cell_type": "code",
   "execution_count": 45,
   "metadata": {
    "colab": {
     "base_uri": "https://localhost:8080/"
    },
    "executionInfo": {
     "elapsed": 12,
     "status": "ok",
     "timestamp": 1752679716580,
     "user": {
      "displayName": "Sara Albashtawi",
      "userId": "03921890274498340999"
     },
     "user_tz": -180
    },
    "id": "Z7OsdMgR0aRL",
    "outputId": "a7071ef0-e934-4457-ff79-9613c4903dbb"
   },
   "outputs": [
    {
     "name": "stdout",
     "output_type": "stream",
     "text": [
      "[[16 10 19 17 15]\n",
      " [16 11 13 13 12]\n",
      " [19 12 15 11 14]\n",
      " [14 13 13 16 19]\n",
      " [16 17 12 11 19]]\n"
     ]
    }
   ],
   "source": [
    "arr_1 = np.random.randint(10, 20, (5,5), dtype=int)\n",
    "print(arr_1)"
   ]
  },
  {
   "cell_type": "code",
   "execution_count": 46,
   "metadata": {
    "colab": {
     "base_uri": "https://localhost:8080/"
    },
    "executionInfo": {
     "elapsed": 18,
     "status": "ok",
     "timestamp": 1752679733171,
     "user": {
      "displayName": "Sara Albashtawi",
      "userId": "03921890274498340999"
     },
     "user_tz": -180
    },
    "id": "nfxYAbBH0CoN",
    "outputId": "60f20c8f-1326-428f-9896-7587ce9227f1"
   },
   "outputs": [
    {
     "name": "stdout",
     "output_type": "stream",
     "text": [
      "19\n"
     ]
    }
   ],
   "source": [
    "print(arr_1.max())"
   ]
  },
  {
   "cell_type": "code",
   "execution_count": 47,
   "metadata": {
    "colab": {
     "base_uri": "https://localhost:8080/"
    },
    "executionInfo": {
     "elapsed": 7,
     "status": "ok",
     "timestamp": 1752679747320,
     "user": {
      "displayName": "Sara Albashtawi",
      "userId": "03921890274498340999"
     },
     "user_tz": -180
    },
    "id": "K5gaQ1P30DR8",
    "outputId": "d0b54745-611c-47b2-808d-499af5e46a2c"
   },
   "outputs": [
    {
     "name": "stdout",
     "output_type": "stream",
     "text": [
      "2\n"
     ]
    }
   ],
   "source": [
    "print(arr_1.argmax())"
   ]
  },
  {
   "cell_type": "code",
   "execution_count": 48,
   "metadata": {
    "colab": {
     "base_uri": "https://localhost:8080/"
    },
    "executionInfo": {
     "elapsed": 28,
     "status": "ok",
     "timestamp": 1752679756226,
     "user": {
      "displayName": "Sara Albashtawi",
      "userId": "03921890274498340999"
     },
     "user_tz": -180
    },
    "id": "DEVXFXIZ0oXJ",
    "outputId": "18abed99-a80f-4a6e-f1f8-a6185489206c"
   },
   "outputs": [
    {
     "name": "stdout",
     "output_type": "stream",
     "text": [
      "10\n"
     ]
    }
   ],
   "source": [
    "print(arr_1.min())"
   ]
  },
  {
   "cell_type": "code",
   "execution_count": 49,
   "metadata": {
    "colab": {
     "base_uri": "https://localhost:8080/"
    },
    "executionInfo": {
     "elapsed": 36,
     "status": "ok",
     "timestamp": 1752679764897,
     "user": {
      "displayName": "Sara Albashtawi",
      "userId": "03921890274498340999"
     },
     "user_tz": -180
    },
    "id": "QST6f2E50q7q",
    "outputId": "1e94345a-6314-4417-e2ae-20b227a5336c"
   },
   "outputs": [
    {
     "name": "stdout",
     "output_type": "stream",
     "text": [
      "1\n"
     ]
    }
   ],
   "source": [
    "print(arr_1.argmin())"
   ]
  },
  {
   "cell_type": "code",
   "execution_count": 50,
   "metadata": {
    "colab": {
     "base_uri": "https://localhost:8080/"
    },
    "executionInfo": {
     "elapsed": 20,
     "status": "ok",
     "timestamp": 1752679775045,
     "user": {
      "displayName": "Sara Albashtawi",
      "userId": "03921890274498340999"
     },
     "user_tz": -180
    },
    "id": "eV_iSxTc2c_V",
    "outputId": "631d5e95-dc25-4ce8-961d-4bdf80e134f4"
   },
   "outputs": [
    {
     "name": "stdout",
     "output_type": "stream",
     "text": [
      "Maximum value: 89 at index: 3\n",
      "Minimum value: 12 at index: 4\n"
     ]
    }
   ],
   "source": [
    "import numpy as np\n",
    "numbers = np.array([34, 56, 23, 89, 12, 48, 67])\n",
    "max_value, max_index = numbers.max(), numbers.argmax()\n",
    "min_value, min_index = numbers.min(), numbers.argmin()\n",
    "print(\"Maximum value:\", max_value, \"at index:\", max_index)\n",
    "print(\"Minimum value:\", min_value, \"at index:\", min_index)"
   ]
  },
  {
   "cell_type": "markdown",
   "metadata": {
    "id": "qtFFfgDn1cR_"
   },
   "source": [
    "Task #12:\n",
    "\n",
    "Exercise: Given the array numbers = np.array([34, 56, 6, 89, 12, 98, 67]), find the maximum, minimum, and the index of both in the array."
   ]
  },
  {
   "cell_type": "code",
   "execution_count": 59,
   "metadata": {},
   "outputs": [
    {
     "name": "stdout",
     "output_type": "stream",
     "text": [
      "Maximum value: 98 at index: 5\n",
      "Minimum value: 6 at index: 2\n"
     ]
    }
   ],
   "source": [
    "# Task 12\n",
    "array_number = np.array([34,56,6,89,12,98,67])\n",
    "\n",
    "max_val , max_index = array_number.max() ,  array_number.argmax()\n",
    "min_val , min_index = array_number.min() , array_number.argmin()\n",
    "\n",
    "print(\"Maximum value:\", max_val, \"at index:\", max_index)\n",
    "print(\"Minimum value:\", min_val, \"at index:\", min_index)\n"
   ]
  },
  {
   "cell_type": "markdown",
   "metadata": {
    "id": "zCb1XP1ObU60"
   },
   "source": [
    "### dtype\n",
    "\n",
    "You can also grab the data type of the object in the array:"
   ]
  },
  {
   "cell_type": "code",
   "execution_count": 51,
   "metadata": {
    "colab": {
     "base_uri": "https://localhost:8080/"
    },
    "executionInfo": {
     "elapsed": 16,
     "status": "ok",
     "timestamp": 1752680462381,
     "user": {
      "displayName": "Sara Albashtawi",
      "userId": "03921890274498340999"
     },
     "user_tz": -180
    },
    "id": "2diH4of9z4zX",
    "outputId": "af01221c-624c-44aa-d3de-6ecd2bb3aa64"
   },
   "outputs": [
    {
     "data": {
      "text/plain": [
       "array([34, 56, 23, 89, 12, 48, 67])"
      ]
     },
     "execution_count": 51,
     "metadata": {},
     "output_type": "execute_result"
    }
   ],
   "source": [
    "numbers"
   ]
  },
  {
   "cell_type": "code",
   "execution_count": 52,
   "metadata": {
    "colab": {
     "base_uri": "https://localhost:8080/"
    },
    "executionInfo": {
     "elapsed": 18,
     "status": "ok",
     "timestamp": 1752680467373,
     "user": {
      "displayName": "Sara Albashtawi",
      "userId": "03921890274498340999"
     },
     "user_tz": -180
    },
    "id": "hjYj6eYMbU60",
    "outputId": "1cfeffc0-5d62-4e74-a053-6d16a23d1d83"
   },
   "outputs": [
    {
     "data": {
      "text/plain": [
       "dtype('int64')"
      ]
     },
     "execution_count": 52,
     "metadata": {},
     "output_type": "execute_result"
    }
   ],
   "source": [
    "numbers.dtype"
   ]
  },
  {
   "cell_type": "code",
   "execution_count": 53,
   "metadata": {
    "colab": {
     "base_uri": "https://localhost:8080/"
    },
    "executionInfo": {
     "elapsed": 12,
     "status": "ok",
     "timestamp": 1752680476781,
     "user": {
      "displayName": "Sara Albashtawi",
      "userId": "03921890274498340999"
     },
     "user_tz": -180
    },
    "id": "FEPy6DE52PBl",
    "outputId": "ba16799d-c1ce-41bd-f071-7a73fd9481e3"
   },
   "outputs": [
    {
     "data": {
      "text/plain": [
       "array([['1', 'batool'],\n",
       "       ['2', 'True']], dtype='<U21')"
      ]
     },
     "execution_count": 53,
     "metadata": {},
     "output_type": "execute_result"
    }
   ],
   "source": [
    "v = [[1, \"batool\"], [2, True]]\n",
    "array_v = np.array(v)\n",
    "array_v"
   ]
  },
  {
   "cell_type": "code",
   "execution_count": 54,
   "metadata": {
    "colab": {
     "base_uri": "https://localhost:8080/"
    },
    "executionInfo": {
     "elapsed": 31,
     "status": "ok",
     "timestamp": 1752680494295,
     "user": {
      "displayName": "Sara Albashtawi",
      "userId": "03921890274498340999"
     },
     "user_tz": -180
    },
    "id": "FJggwJWE2aG_",
    "outputId": "500c37c8-d20e-4ec0-e13b-8ea471eb71f8"
   },
   "outputs": [
    {
     "data": {
      "text/plain": [
       "dtype('<U21')"
      ]
     },
     "execution_count": 54,
     "metadata": {},
     "output_type": "execute_result"
    }
   ],
   "source": [
    "array_v.dtype"
   ]
  },
  {
   "cell_type": "markdown",
   "metadata": {
    "id": "ruUkkbqP6T5V"
   },
   "source": [
    "# Great Job 🚀"
   ]
  }
 ],
 "metadata": {
  "colab": {
   "collapsed_sections": [
    "SkkaBcSfbU6q",
    "aBWWgwakhgq4",
    "HFFSyY__bU6s",
    "FtsaBQV8jFBP",
    "87LEqDbIjOnI",
    "iFd1jo34bU6t",
    "5toah_tBbU6u",
    "2R4XUPRpbU6u",
    "6rsnO9z1bU6u",
    "WTMtwfxrbU6v",
    "MXwLz8tBmAbp",
    "hJc31BQGnKom",
    "DCdvycv5bU6v",
    "kU_7duN0bU6v",
    "OoC_aBflpbS1",
    "HJUzD_XgbU60",
    "OhoHqz6qs6kt",
    "N-8akYXnrSFU",
    "7bZPozkjzWxR",
    "iB6UWDe9zeVc"
   ],
   "provenance": []
  },
  "kernelspec": {
   "display_name": "Python 3",
   "name": "python3"
  },
  "language_info": {
   "codemirror_mode": {
    "name": "ipython",
    "version": 3
   },
   "file_extension": ".py",
   "mimetype": "text/x-python",
   "name": "python",
   "nbconvert_exporter": "python",
   "pygments_lexer": "ipython3",
   "version": "3.13.0"
  }
 },
 "nbformat": 4,
 "nbformat_minor": 0
}
