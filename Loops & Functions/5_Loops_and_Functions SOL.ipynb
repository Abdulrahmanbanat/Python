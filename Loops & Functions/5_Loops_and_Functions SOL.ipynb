{
  "cells": [
    {
      "cell_type": "markdown",
      "metadata": {
        "id": "m9NFqxtz5AEl"
      },
      "source": [
        "# Loops & Functions\n",
        "\n",
        "This Notebook includes the following contents:\n",
        "\n",
        "* for loop\n",
        "* Nested for Loop\n",
        "\n",
        "  -- `zip function`\n",
        "\n",
        "* while loop\n",
        "* Break and Continue Statements\n",
        "* Functions\n",
        "\n",
        "  -- `Create Function`\n",
        "\n",
        "  -- `Calling a Function`\n",
        "\n",
        "  -- `The difference between print and return`\n",
        "\n",
        "  -- `Function Parameters and Arguments`\n",
        "\n",
        "  -- `Types of Arguments`\n",
        "\n",
        "  -- `Hints`\n",
        "\n",
        "  -- `The difference between global variable and local variable`\n",
        "\n",
        "  -- `Lambda Functions`\n",
        "\n",
        "  -- `Nested Functions`\n",
        "\n",
        "* Quick Review\n",
        "\n"
      ]
    },
    {
      "cell_type": "markdown",
      "metadata": {
        "id": "rfDvQ-eMTytb"
      },
      "source": [
        "## for Loop"
      ]
    },
    {
      "cell_type": "markdown",
      "metadata": {
        "id": "3-2cuwL7Xq1-"
      },
      "source": [
        "- A for loop in Python is used to iterate over a sequence (such as a list, tuple, string, or range). It executes a block of code repeatedly for each item in the sequence.\n",
        "\n",
        "- A for loop is used when you know in advance how many times you want to repeat a block of code."
      ]
    },
    {
      "cell_type": "code",
      "execution_count": 1,
      "metadata": {
        "id": "ker0b0w40jQd"
      },
      "outputs": [
        {
          "data": {
            "text/plain": [
              "range(0, 5)"
            ]
          },
          "execution_count": 1,
          "metadata": {},
          "output_type": "execute_result"
        }
      ],
      "source": [
        "range(5)"
      ]
    },
    {
      "cell_type": "code",
      "execution_count": 2,
      "metadata": {
        "id": "Rdxez4PgCszF"
      },
      "outputs": [
        {
          "data": {
            "text/plain": [
              "[0, 1, 2, 3, 4]"
            ]
          },
          "execution_count": 2,
          "metadata": {},
          "output_type": "execute_result"
        }
      ],
      "source": [
        "list(range(5))"
      ]
    },
    {
      "cell_type": "code",
      "execution_count": 3,
      "metadata": {
        "id": "cVH9haIgWU1j"
      },
      "outputs": [
        {
          "name": "stdout",
          "output_type": "stream",
          "text": [
            "Hi\n",
            "Hi\n",
            "Hi\n",
            "Hi\n",
            "Hi\n",
            "4\n"
          ]
        }
      ],
      "source": [
        "for i in range(5):\n",
        "  print(\"Hi\")\n",
        "\n",
        "print(i)"
      ]
    },
    {
      "cell_type": "code",
      "execution_count": 4,
      "metadata": {
        "id": "5QBm2zwcXvi2"
      },
      "outputs": [
        {
          "name": "stdout",
          "output_type": "stream",
          "text": [
            "0\n",
            "1\n",
            "2\n",
            "3\n",
            "4\n",
            "5\n"
          ]
        }
      ],
      "source": [
        "for i in range(6):\n",
        "  print(i)"
      ]
    },
    {
      "cell_type": "code",
      "execution_count": 5,
      "metadata": {
        "id": "E7K7VjRjXzNB"
      },
      "outputs": [
        {
          "name": "stdout",
          "output_type": "stream",
          "text": [
            "1\n",
            "2\n",
            "3\n",
            "4\n",
            "5\n"
          ]
        }
      ],
      "source": [
        "# The start can be specified\n",
        "# The end is not printed\n",
        "\n",
        "for i in range (1,6):\n",
        "  print(i)"
      ]
    },
    {
      "cell_type": "code",
      "execution_count": 6,
      "metadata": {
        "id": "ZNKG1LG_X0nS"
      },
      "outputs": [
        {
          "name": "stdout",
          "output_type": "stream",
          "text": [
            "H\n",
            "e\n",
            "l\n",
            "l\n",
            "o\n",
            " \n",
            "t\n",
            "h\n",
            "e\n",
            "r\n",
            "e\n"
          ]
        }
      ],
      "source": [
        "# example with a String\n",
        "\n",
        "word = \"Hello there\"\n",
        "\n",
        "for i in word:\n",
        "  print(i)"
      ]
    },
    {
      "cell_type": "code",
      "execution_count": 7,
      "metadata": {
        "id": "_1EJE5BMX2m4"
      },
      "outputs": [
        {
          "name": "stdout",
          "output_type": "stream",
          "text": [
            "Not 7\n",
            "Not 7\n",
            "7\n",
            "hello\n",
            "Not 7\n",
            "7\n",
            "hello\n",
            "Not 7\n"
          ]
        }
      ],
      "source": [
        "lst = [10,5,7,78,7,10]\n",
        "\n",
        "for num in lst:\n",
        "\n",
        "  if num == 7:\n",
        "    print(num)\n",
        "    print(\"hello\")\n",
        "\n",
        "  else:\n",
        "    print(\"Not 7\")"
      ]
    },
    {
      "cell_type": "code",
      "execution_count": 8,
      "metadata": {
        "id": "dr1vizyuX6DR"
      },
      "outputs": [
        {
          "name": "stdout",
          "output_type": "stream",
          "text": [
            "25\n",
            "Less or equal to 20\n",
            "30\n",
            "Less or equal to 20\n",
            "22\n",
            "Less or equal to 20\n"
          ]
        }
      ],
      "source": [
        "lst1 = [25, 15, 30, 5, 22, 18]\n",
        "\n",
        "for batool in lst1:\n",
        "    if batool > 20:\n",
        "        print(batool)\n",
        "    else:\n",
        "        print(\"Less or equal to 20\")"
      ]
    },
    {
      "cell_type": "markdown",
      "metadata": {
        "id": "S_QRObvVYCw5"
      },
      "source": [
        "\n",
        "\n",
        "---\n",
        "\n",
        "\n",
        "Task 1:\n",
        "\n",
        "You have a list of numbers and you want to check if each number is in another list called special_numbers.\n",
        "\n",
        "If the number is in the list, print the number; otherwise, print \"Not in special numbers\".\n",
        "\n",
        "list1=[1,2,3,4]\n",
        "\n",
        "list2=[1,4,5,6]\n",
        "\n",
        "\n",
        "---\n",
        "\n"
      ]
    },
    {
      "cell_type": "code",
      "execution_count": 49,
      "metadata": {},
      "outputs": [
        {
          "name": "stdout",
          "output_type": "stream",
          "text": [
            "1\n",
            "Not in special number\n",
            "Not in special number\n",
            "4\n"
          ]
        }
      ],
      "source": [
        "# Task1\n",
        "list1 = [1,2,3,4]\n",
        "list2 = [1,4,5,6]\n",
        "\n",
        "for i in list1:\n",
        "  if i in list2: \n",
        "   print(i)\n",
        "  else:\n",
        "    print('Not in special number')\n",
        "  "
      ]
    },
    {
      "cell_type": "markdown",
      "metadata": {
        "id": "6n5V00RQUQUd"
      },
      "source": [
        "# Nested Loops"
      ]
    },
    {
      "cell_type": "code",
      "execution_count": 50,
      "metadata": {
        "id": "iExzOFUiYJRb"
      },
      "outputs": [
        {
          "name": "stdout",
          "output_type": "stream",
          "text": [
            "Employee name is Nabeel, Salary is 500 \n",
            "Employee name is Nabeel, Salary is 600 \n",
            "Employee name is Nabeel, Salary is 450 \n",
            "Employee name is Reema, Salary is 500 \n",
            "Employee name is Reema, Salary is 600 \n",
            "Employee name is Reema, Salary is 450 \n",
            "Employee name is Omar, Salary is 500 \n",
            "Employee name is Omar, Salary is 600 \n",
            "Employee name is Omar, Salary is 450 \n"
          ]
        }
      ],
      "source": [
        "salaries = [500,600,450]\n",
        "employess = [\"Nabeel\", \"Reema\", \"Omar\"]\n",
        "\n",
        "for emp in employess:\n",
        "  for salary in salaries:\n",
        "    print(f\"Employee name is {emp}, Salary is {salary} \")"
      ]
    },
    {
      "cell_type": "code",
      "execution_count": 51,
      "metadata": {
        "id": "1tHPA05ZPv4L"
      },
      "outputs": [
        {
          "data": {
            "text/plain": [
              "3"
            ]
          },
          "execution_count": 51,
          "metadata": {},
          "output_type": "execute_result"
        }
      ],
      "source": [
        "len(salaries)"
      ]
    },
    {
      "cell_type": "code",
      "execution_count": 52,
      "metadata": {
        "id": "YI6wzBLIYfJM"
      },
      "outputs": [
        {
          "name": "stdout",
          "output_type": "stream",
          "text": [
            "salary 500 belongs to Nabeel\n",
            "salary 600 belongs to Reema\n",
            "salary 450 belongs to Omar\n"
          ]
        }
      ],
      "source": [
        "salaries = [500,600,450]\n",
        "employees = [\"Nabeel\", \"Reema\", \"Omar\"]\n",
        "\n",
        "for i in range(len(salaries)):     # for i in range(3)    #for i in range(0 , 1 , 2)\n",
        "  print(f\"salary {salaries[i]} belongs to {employess[i]}\")"
      ]
    },
    {
      "cell_type": "code",
      "execution_count": 53,
      "metadata": {
        "id": "Etid01vCYiF1"
      },
      "outputs": [
        {
          "name": "stdout",
          "output_type": "stream",
          "text": [
            "Help on class zip in module builtins:\n",
            "\n",
            "class zip(object)\n",
            " |  zip(*iterables, strict=False) --> Yield tuples until an input is exhausted.\n",
            " |\n",
            " |     >>> list(zip('abcdefg', range(3), range(4)))\n",
            " |     [('a', 0, 0), ('b', 1, 1), ('c', 2, 2)]\n",
            " |\n",
            " |  The zip object yields n-length tuples, where n is the number of iterables\n",
            " |  passed as positional arguments to zip().  The i-th element in every tuple\n",
            " |  comes from the i-th iterable argument to zip().  This continues until the\n",
            " |  shortest argument is exhausted.\n",
            " |\n",
            " |  If strict is true and one of the arguments is exhausted before the others,\n",
            " |  raise a ValueError.\n",
            " |\n",
            " |  Methods defined here:\n",
            " |\n",
            " |  __getattribute__(self, name, /)\n",
            " |      Return getattr(self, name).\n",
            " |\n",
            " |  __iter__(self, /)\n",
            " |      Implement iter(self).\n",
            " |\n",
            " |  __next__(self, /)\n",
            " |      Implement next(self).\n",
            " |\n",
            " |  __reduce__(...)\n",
            " |      Return state information for pickling.\n",
            " |\n",
            " |  __setstate__(...)\n",
            " |      Set state information for unpickling.\n",
            " |\n",
            " |  ----------------------------------------------------------------------\n",
            " |  Static methods defined here:\n",
            " |\n",
            " |  __new__(*args, **kwargs)\n",
            " |      Create and return a new object.  See help(type) for accurate signature.\n",
            "\n"
          ]
        }
      ],
      "source": [
        "help(zip)"
      ]
    },
    {
      "cell_type": "code",
      "execution_count": 54,
      "metadata": {
        "id": "hSfRzazMYhUs"
      },
      "outputs": [
        {
          "name": "stdout",
          "output_type": "stream",
          "text": [
            "[('Nabeel', 500), ('Reema', 600), ('Omar', 450)]\n"
          ]
        }
      ],
      "source": [
        "print(list(zip(employees, salaries)))"
      ]
    },
    {
      "cell_type": "code",
      "execution_count": 55,
      "metadata": {
        "id": "KgAS_eiQZFyj"
      },
      "outputs": [
        {
          "name": "stdout",
          "output_type": "stream",
          "text": [
            "salary 500 belongs to Nabeel\n",
            "salary 600 belongs to Reema\n",
            "salary 450 belongs to Omar\n"
          ]
        }
      ],
      "source": [
        "salaries = [500,600,450]\n",
        "employees = [\"Nabeel\", \"Reema\", \"Omar\", \"batool\"]\n",
        "\n",
        "for i,e in zip(salaries, employees):\n",
        "  print(f\"salary {i} belongs to {e}\")"
      ]
    },
    {
      "cell_type": "markdown",
      "metadata": {
        "id": "pskkNr4TZOlk"
      },
      "source": [
        "---\n",
        "Task 2:\n",
        "\n",
        "You have the following list_chars = ['A', 'B', 'C']\n",
        "\n",
        "I want you to write a Python program to get this result.\n",
        "\n",
        "\n",
        "---\n",
        "\n"
      ]
    },
    {
      "cell_type": "code",
      "execution_count": 83,
      "metadata": {},
      "outputs": [
        {
          "name": "stdout",
          "output_type": "stream",
          "text": [
            "character A and his number 1\n",
            "character B and his number 2\n",
            "character C and his number 3\n"
          ]
        }
      ],
      "source": [
        "# Task2\n",
        "list_chars = ['A', 'B', 'C']\n",
        "list_num = [1,2,3]\n",
        "\n",
        "for c,n in zip(list_chars,list_num):\n",
        "  print(f\"character {c} and his number {n}\")"
      ]
    },
    {
      "cell_type": "markdown",
      "metadata": {
        "id": "MzBfOAA9atlS"
      },
      "source": [
        "# While Loop"
      ]
    },
    {
      "cell_type": "markdown",
      "metadata": {
        "id": "PmsDzVznaxLG"
      },
      "source": [
        "A while loop repeatedly executes a block of code as long as the given condition is True. Once the condition becomes False, the loop stops."
      ]
    },
    {
      "cell_type": "code",
      "execution_count": 59,
      "metadata": {
        "id": "6r6E2IHPawmn"
      },
      "outputs": [
        {
          "name": "stdout",
          "output_type": "stream",
          "text": [
            "1\n",
            "2\n",
            "3\n"
          ]
        }
      ],
      "source": [
        "i = 0\n",
        "while i < 3:\n",
        "    i = i + 1\n",
        "    print(i)"
      ]
    },
    {
      "cell_type": "code",
      "execution_count": 60,
      "metadata": {
        "id": "mgErYIpzaH6j"
      },
      "outputs": [
        {
          "name": "stdout",
          "output_type": "stream",
          "text": [
            "3\n"
          ]
        }
      ],
      "source": [
        "i = 0\n",
        "while i < 3:\n",
        "    i = i + 1\n",
        "print(i)"
      ]
    },
    {
      "cell_type": "code",
      "execution_count": 61,
      "metadata": {
        "id": "UmjczyM2aJOH"
      },
      "outputs": [
        {
          "name": "stdout",
          "output_type": "stream",
          "text": [
            "0\n",
            "1\n",
            "2\n"
          ]
        }
      ],
      "source": [
        "i = 0\n",
        "while i < 3:\n",
        "    print(i)\n",
        "    i = i + 1"
      ]
    },
    {
      "cell_type": "code",
      "execution_count": null,
      "metadata": {
        "id": "ezrn4P_ebBBm"
      },
      "outputs": [],
      "source": [
        "# infinity loop\n",
        "i = 0\n",
        "while i < 5:\n",
        "    print(i)"
      ]
    },
    {
      "cell_type": "code",
      "execution_count": 63,
      "metadata": {
        "id": "CuAAgaWwbEe2"
      },
      "outputs": [
        {
          "name": "stdout",
          "output_type": "stream",
          "text": [
            "0\n",
            "2\n",
            "4\n"
          ]
        }
      ],
      "source": [
        "i = 0\n",
        "while i < 5:\n",
        "  print(i)\n",
        "  i = i + 2"
      ]
    },
    {
      "cell_type": "code",
      "execution_count": 64,
      "metadata": {
        "id": "2_e5_dGqbT5G"
      },
      "outputs": [
        {
          "name": "stdout",
          "output_type": "stream",
          "text": [
            "Hello There\n",
            "Hello There\n",
            "Hello There\n",
            "Loop is ended\n"
          ]
        }
      ],
      "source": [
        "i = 3\n",
        "\n",
        "while i > 0 :\n",
        "  print(\"Hello\",\"There\")\n",
        "  i-=1 # i = i - 1\n",
        "\n",
        "print(\"Loop is ended\")"
      ]
    },
    {
      "cell_type": "code",
      "execution_count": 65,
      "metadata": {
        "id": "ogrpK-gTbcZH"
      },
      "outputs": [
        {
          "name": "stdout",
          "output_type": "stream",
          "text": [
            "2\n",
            "4\n",
            "8\n",
            "16\n",
            "32\n",
            "64\n",
            "128\n"
          ]
        }
      ],
      "source": [
        "i = 2\n",
        "while i < 100:\n",
        "    print(i)\n",
        "    i =i*2\n",
        "\n",
        "print(i)"
      ]
    },
    {
      "cell_type": "markdown",
      "metadata": {
        "id": "p1jHOrlAfyTB"
      },
      "source": [
        "---\n",
        "Task 3:\n",
        "\n",
        "\n",
        "Print all numbers from 0 to 10 using a while loop.\n",
        "\n",
        "---\n",
        "\n"
      ]
    },
    {
      "cell_type": "code",
      "execution_count": 73,
      "metadata": {},
      "outputs": [
        {
          "name": "stdout",
          "output_type": "stream",
          "text": [
            "0\n",
            "1\n",
            "2\n",
            "3\n",
            "4\n",
            "5\n",
            "6\n",
            "7\n",
            "8\n",
            "9\n",
            "10\n"
          ]
        }
      ],
      "source": [
        "# Task3\n",
        "x = 0\n",
        "\n",
        "while x <= 10:\n",
        "  print (x)\n",
        "  x += 1"
      ]
    },
    {
      "cell_type": "markdown",
      "metadata": {
        "id": "MGlbchPpf_Cj"
      },
      "source": [
        "# Break and Continue Statements"
      ]
    },
    {
      "cell_type": "markdown",
      "metadata": {
        "id": "ikYi9yr6g7s9"
      },
      "source": [
        "Both for and while loops support the break and continue statements:\n",
        "\n",
        "*   break: Terminates the loop prematurely. (Exits the loop entirely, stopping all iterations.)\n",
        "*   continue: Skips the current iteration and proceeds to the next one."
      ]
    },
    {
      "cell_type": "code",
      "execution_count": 74,
      "metadata": {
        "id": "3UTdeTywg86l"
      },
      "outputs": [
        {
          "name": "stdout",
          "output_type": "stream",
          "text": [
            "0\n",
            "1\n",
            "2\n",
            "3\n",
            "4\n",
            "last i 5\n"
          ]
        }
      ],
      "source": [
        "for i in range(7):\n",
        "    if i == 5:\n",
        "        break\n",
        "    print(i)\n",
        "print(\"last i\", i)"
      ]
    },
    {
      "cell_type": "code",
      "execution_count": 75,
      "metadata": {
        "id": "l4S0n7u8g__G"
      },
      "outputs": [
        {
          "name": "stdout",
          "output_type": "stream",
          "text": [
            "0\n",
            "1\n",
            "3\n",
            "4\n"
          ]
        }
      ],
      "source": [
        "for i in range(5):\n",
        "    if i == 2:\n",
        "        continue\n",
        "    print(i)"
      ]
    },
    {
      "cell_type": "markdown",
      "metadata": {
        "id": "iKRrZocPMg1e"
      },
      "source": [
        "# Functions"
      ]
    },
    {
      "cell_type": "markdown",
      "metadata": {
        "id": "Nd0VYZlzMjEt"
      },
      "source": [
        "A function in Python is a reusable block of code designed to perform a specific task. It helps you to organize code, avoid repetition, and improve readability.\n",
        "\n",
        "---\n",
        "\n",
        "A function is a block of organized, reusable code that is used to perform a specific task. Functions help divide a program into logical chunks, improving modularity and reusability.\n",
        "\n",
        "\n",
        "\n",
        "\n",
        "Components of a Function:\n",
        "\n",
        "\n",
        "*   def keyword: This marks the start of a function header.\n",
        "*   function_name: A valid identifier representing the function.\n",
        "\n",
        "\n",
        "*   parameters: Inputs to the function (optional). Multiple parameters are separated by commas.\n",
        "*   return value: The output of the function (optional). If omitted, Python returns None.\n",
        "\n",
        "\n",
        "\n",
        "\n",
        "---\n",
        "Calling a Function\n",
        "\n",
        "* To execute the code inside a function, you \"call\" the function by its name followed by parentheses. If the function takes parameters, you pass the values inside the parentheses.\n"
      ]
    },
    {
      "cell_type": "code",
      "execution_count": null,
      "metadata": {
        "id": "mlW8XQQHFDLd"
      },
      "outputs": [],
      "source": [
        "def my_fun():\n",
        "  pass"
      ]
    },
    {
      "cell_type": "code",
      "execution_count": null,
      "metadata": {
        "id": "QzWNnSxCoOsU"
      },
      "outputs": [],
      "source": [
        "def my_function():\n",
        "  pass\n",
        "\n",
        "# how to call it\n",
        "\n",
        "#print(my_function) # wrong way\n",
        "print(my_function())"
      ]
    },
    {
      "cell_type": "code",
      "execution_count": null,
      "metadata": {
        "id": "LQPnMjkzoeuD"
      },
      "outputs": [],
      "source": [
        "# let's do something with it\n",
        "x = 10\n",
        "def greet():\n",
        "    print(\"Hello, there!\")\n",
        "\n",
        "greet()\n",
        "print(x)"
      ]
    },
    {
      "cell_type": "code",
      "execution_count": null,
      "metadata": {
        "id": "dlrzD11ZGIo0"
      },
      "outputs": [],
      "source": [
        "x = 10\n",
        "def greet():\n",
        "    return(\"Hello, there!\")\n",
        "\n",
        "greet()\n",
        "print(x)"
      ]
    },
    {
      "cell_type": "code",
      "execution_count": null,
      "metadata": {
        "id": "sXg_ymS9GWV3"
      },
      "outputs": [],
      "source": [
        "x = 10\n",
        "def greet():\n",
        "    return(\"Hello, there!\")\n",
        "\n",
        "print(greet())\n",
        "print(x)"
      ]
    },
    {
      "cell_type": "code",
      "execution_count": null,
      "metadata": {
        "id": "DJ4en9IpGVxt"
      },
      "outputs": [],
      "source": [
        "def greet():\n",
        "    print(\"Hello, there!\")\n",
        "\n",
        "print(greet())\n",
        "\n",
        "x = 10\n",
        "print(x)\n",
        "print(greet())\n",
        "\n",
        "y = 5"
      ]
    },
    {
      "cell_type": "markdown",
      "metadata": {
        "id": "CeEtA7iHsB6r"
      },
      "source": [
        "Function Arguments\n",
        "\n",
        "* Functions in Python can take arguments (or parameters), which allow you to pass data to the function.\n",
        "\n",
        "\n",
        "\n",
        "---\n",
        "\n",
        "Return Values\n",
        "\n",
        "A function can return a value using the return statement. If the function doesn’t have a return statement, it returns None by default.\n",
        "\n",
        "---\n",
        "\n",
        "Types of Arguments:\n",
        "1. Positional Arguments: These are passed to the function in the correct positional order.\n",
        "\n",
        "2. Keyword Arguments: These allow you to pass values by explicitly naming the parameter.\n",
        "\n",
        "3. Default Arguments: You can define default values for parameters, which will be used if no value is provided during the function call."
      ]
    },
    {
      "cell_type": "code",
      "execution_count": 76,
      "metadata": {
        "id": "Ft8KYHsLrBuR"
      },
      "outputs": [
        {
          "name": "stdout",
          "output_type": "stream",
          "text": [
            "8\n",
            "HI\n"
          ]
        }
      ],
      "source": [
        "# Examples with Parameters:\n",
        "\n",
        "def add_one(number):\n",
        "  result = number + 1\n",
        "  return (result)\n",
        "\n",
        "print(add_one(7))\n",
        "print(\"HI\")"
      ]
    },
    {
      "cell_type": "code",
      "execution_count": 77,
      "metadata": {
        "id": "4qQTuQx2ojTe"
      },
      "outputs": [
        {
          "name": "stdout",
          "output_type": "stream",
          "text": [
            "Hello, marah!\n",
            "10\n"
          ]
        }
      ],
      "source": [
        "# Examples with Parameters:\n",
        "x=10\n",
        "def greet(name):\n",
        "    print(f\"Hello, {name}!\")\n",
        "\n",
        "greet(\"marah\")\n",
        "\n",
        "greet = 10\n",
        "print(greet)"
      ]
    },
    {
      "cell_type": "code",
      "execution_count": 78,
      "metadata": {
        "id": "rt6aYcaPojNT"
      },
      "outputs": [
        {
          "name": "stdout",
          "output_type": "stream",
          "text": [
            "10\n"
          ]
        }
      ],
      "source": [
        "# Positional Arguments\n",
        "\n",
        "def add_1(a, b, c):\n",
        "    print(a - b +c)\n",
        "\n",
        "add_1(5,6,11)"
      ]
    },
    {
      "cell_type": "code",
      "execution_count": 79,
      "metadata": {
        "id": "BILYPnuYooPR"
      },
      "outputs": [
        {
          "name": "stdout",
          "output_type": "stream",
          "text": [
            "batool\n",
            "9\n"
          ]
        }
      ],
      "source": [
        "# Keyword Arguments\n",
        "\n",
        "def add(a, b , name):\n",
        "    print(name)\n",
        "    print(a + b)\n",
        "\n",
        "add(name =\"batool\", a= 5 , b =4)"
      ]
    },
    {
      "cell_type": "code",
      "execution_count": 82,
      "metadata": {
        "id": "fieHcNl1YEtS"
      },
      "outputs": [
        {
          "name": "stdout",
          "output_type": "stream",
          "text": [
            "batool\n",
            "9\n"
          ]
        }
      ],
      "source": [
        "def add(a, b , name):\n",
        "    print(name)\n",
        "    print(a + b)\n",
        "\n",
        "add(5 ,4, \"batool\")"
      ]
    },
    {
      "cell_type": "markdown",
      "metadata": {
        "id": "NjXJDR0TopSX"
      },
      "source": [
        "---\n",
        "Task 4:\n",
        "\n",
        "Write a function that prints your name (without any parameters)\n",
        "\n",
        "---\n",
        "Task 5:\n",
        "\n",
        "\n",
        "Write a function with two parameters (first_name , last_name) and then print (my full name is {first_name} , {last_name})\n",
        "\n",
        "---"
      ]
    },
    {
      "cell_type": "code",
      "execution_count": 84,
      "metadata": {},
      "outputs": [
        {
          "name": "stdout",
          "output_type": "stream",
          "text": [
            "Abdulrahman\n"
          ]
        }
      ],
      "source": [
        "# Task4\n",
        "\n",
        "def name():\n",
        "  na_me= input('Enter your name: ')\n",
        "  print(na_me)\n",
        "\n",
        "name()"
      ]
    },
    {
      "cell_type": "code",
      "execution_count": 85,
      "metadata": {},
      "outputs": [
        {
          "name": "stdout",
          "output_type": "stream",
          "text": [
            "my full name is abdulrahman,fuad\n"
          ]
        }
      ],
      "source": [
        "# Task5\n",
        "\n",
        "def full_name(first_name, last_name):\n",
        "  print(f'my full name is {first_name},{last_name}')\n",
        "\n",
        "full_name('abdulrahman','fuad')"
      ]
    },
    {
      "cell_type": "code",
      "execution_count": 86,
      "metadata": {
        "id": "iVDz45rVoo6j"
      },
      "outputs": [
        {
          "name": "stdout",
          "output_type": "stream",
          "text": [
            "Hello, stranger!\n",
            "Hello, Yafa!\n"
          ]
        }
      ],
      "source": [
        "# Default Parameters:\n",
        "\n",
        "def greet(name=\"stranger\"):\n",
        "    print(f\"Hello, {name}!\")\n",
        "\n",
        "greet()\n",
        "greet(\"Yafa\")\n"
      ]
    },
    {
      "cell_type": "code",
      "execution_count": 89,
      "metadata": {
        "id": "MgrE8ufi5FcL"
      },
      "outputs": [
        {
          "name": "stdout",
          "output_type": "stream",
          "text": [
            "my age is 15 and name is stranger\n",
            "my age is 10 and name is stranger\n"
          ]
        }
      ],
      "source": [
        "def greet(age, name=\"stranger\"):\n",
        "    print(f\"my age is {age} and name is {name}\")\n",
        "\n",
        "\n",
        "greet(15) # pass in age parameter\n",
        "greet(10) #pass in both"
      ]
    },
    {
      "cell_type": "code",
      "execution_count": 90,
      "metadata": {
        "id": "x063s0ZPpM0_"
      },
      "outputs": [
        {
          "name": "stdout",
          "output_type": "stream",
          "text": [
            "my age is 10 and name is stranger\n",
            "5\n"
          ]
        }
      ],
      "source": [
        "# Default Parameters:\n",
        "\n",
        "def greet(age,x,name=\"stranger\"):\n",
        "    print(f\"my age is {age} and name is {name}\")\n",
        "    print(x)\n",
        "\n",
        "\n",
        "#greet(10, name = \"Yafa\") # pass in age parameter\n",
        "greet(10, 5) #pass in both\n"
      ]
    },
    {
      "cell_type": "markdown",
      "metadata": {
        "id": "yUemZPHcpPIs"
      },
      "source": [
        "---\n",
        "\n",
        "Task 6:\n",
        "\n",
        "Write a function that takes two numbers a and b and assign b to a default value 5 and then print(a + b)\n",
        "\n",
        "---"
      ]
    },
    {
      "cell_type": "code",
      "execution_count": 93,
      "metadata": {},
      "outputs": [
        {
          "name": "stdout",
          "output_type": "stream",
          "text": [
            "15\n"
          ]
        }
      ],
      "source": [
        "# Task6\n",
        "def numbers(a , b = 5):  # b has default value b = 5\n",
        "  print(a + b)\n",
        "\n",
        "numbers(10)"
      ]
    },
    {
      "cell_type": "code",
      "execution_count": 94,
      "metadata": {
        "id": "HdR4Lsq26QGV"
      },
      "outputs": [
        {
          "name": "stdout",
          "output_type": "stream",
          "text": [
            "7\n"
          ]
        }
      ],
      "source": [
        "def add(a, b=5):\n",
        "  print(a+b)\n",
        "\n",
        "add(2)"
      ]
    },
    {
      "cell_type": "code",
      "execution_count": 95,
      "metadata": {
        "id": "89X7grKKpcwN"
      },
      "outputs": [
        {
          "name": "stdout",
          "output_type": "stream",
          "text": [
            "5\n"
          ]
        }
      ],
      "source": [
        "# Return Statement (open the image)\n",
        "def add(a, b):\n",
        "\n",
        "  return a + b\n",
        "\n",
        "# add(2, 3)\n",
        "result = add(2, 3)\n",
        "print(result)\n"
      ]
    },
    {
      "cell_type": "code",
      "execution_count": 96,
      "metadata": {
        "id": "OX-jd9DdpfEX"
      },
      "outputs": [
        {
          "name": "stdout",
          "output_type": "stream",
          "text": [
            "9\n"
          ]
        }
      ],
      "source": [
        "# HINTS\n",
        "\n",
        "def add(a:int, b:int = 5):\n",
        "    return a + b\n",
        "\n",
        "print(add(4))"
      ]
    },
    {
      "cell_type": "code",
      "execution_count": 97,
      "metadata": {
        "id": "QAXp0wXopmtH"
      },
      "outputs": [],
      "source": [
        "#function to return the mean of the list\n",
        "\n",
        "def find_mean(lst:list):\n",
        "\n",
        "  summition = 0\n",
        "  for i in lst:\n",
        "    summition += i\n",
        "\n",
        "  mean = summition / len(lst)\n",
        "\n",
        "  print(mean)"
      ]
    },
    {
      "cell_type": "code",
      "execution_count": 98,
      "metadata": {
        "id": "ZddQReUNppez"
      },
      "outputs": [
        {
          "name": "stdout",
          "output_type": "stream",
          "text": [
            "2.0\n"
          ]
        }
      ],
      "source": [
        "find_mean([1,2,3])"
      ]
    },
    {
      "cell_type": "code",
      "execution_count": 99,
      "metadata": {
        "id": "wrveNEsAUlIt"
      },
      "outputs": [],
      "source": [
        "def find_mean(lst:list):\n",
        "  mean = sum(lst) / len(lst)\n",
        "\n",
        "  print(mean)"
      ]
    },
    {
      "cell_type": "code",
      "execution_count": 100,
      "metadata": {
        "id": "LxsyFXfyTvUM"
      },
      "outputs": [
        {
          "name": "stdout",
          "output_type": "stream",
          "text": [
            "2.0\n"
          ]
        }
      ],
      "source": [
        "find_mean([1,2,3])"
      ]
    },
    {
      "cell_type": "markdown",
      "metadata": {
        "id": "8oHyyIojpxY9"
      },
      "source": [
        "---\n",
        "\n",
        "Task 7:\n",
        "\n",
        "Create a function takes a list of numbers and prints whether each number is even or odd.\n",
        "\n",
        "---\n",
        "\n"
      ]
    },
    {
      "cell_type": "code",
      "execution_count": 102,
      "metadata": {},
      "outputs": [
        {
          "name": "stdout",
          "output_type": "stream",
          "text": [
            "1 number is odd\n",
            "2 number is even\n",
            "3 number is odd\n",
            "4 number is even\n",
            "5 number is odd\n",
            "6 number is even\n"
          ]
        }
      ],
      "source": [
        "# Task7\n",
        "def lsts():\n",
        "  lst = [1,2,3,4,5,6]\n",
        "  for i in lst:\n",
        "    if i%2 == 0:\n",
        "      print(f'{i} number is even')\n",
        "    else: print(f'{i} number is odd')\n",
        "  \n",
        "lsts()"
      ]
    },
    {
      "cell_type": "markdown",
      "metadata": {
        "id": "Q6hbM7LUqgUd"
      },
      "source": [
        "Variable Scope in Functions Local Scope: Variables defined within a function are in the local scope and cannot be accessed outside the function. Global Scope: Variables defined outside a function are in the global scope and can be accessed inside the function (though they can't be modified unless explicitly declared global)."
      ]
    },
    {
      "cell_type": "code",
      "execution_count": 103,
      "metadata": {
        "id": "Jnr8Dq_oqkWG"
      },
      "outputs": [
        {
          "name": "stdout",
          "output_type": "stream",
          "text": [
            "1\n",
            "9\n"
          ]
        }
      ],
      "source": [
        "x = 10  # Global variable\n",
        "\n",
        "def p_x():\n",
        "    x = 5\n",
        "    x = 1\n",
        "    print(x)\n",
        "\n",
        "x = 9\n",
        "p_x()\n",
        "print(x)"
      ]
    },
    {
      "cell_type": "code",
      "execution_count": 104,
      "metadata": {
        "id": "wioeGE0Kqpeq"
      },
      "outputs": [
        {
          "name": "stdout",
          "output_type": "stream",
          "text": [
            "15\n",
            "10\n"
          ]
        }
      ],
      "source": [
        "y = 10  # Global variable\n",
        "\n",
        "def print_x_y():\n",
        "    x = 5 + y\n",
        "    print(x)\n",
        "\n",
        "print_x_y()\n",
        "print(y)"
      ]
    },
    {
      "cell_type": "code",
      "execution_count": 105,
      "metadata": {
        "id": "000SESUhrQI3"
      },
      "outputs": [
        {
          "name": "stdout",
          "output_type": "stream",
          "text": [
            "A\n",
            "23\n",
            "B\n"
          ]
        }
      ],
      "source": [
        "name = 'Saif'  # global\n",
        "age = 23  # global\n",
        "\n",
        "\n",
        "def my_func():\n",
        "  name = 'A'  # local but has the same name as a global variable\n",
        "  last_name = \"B\"  # local only\n",
        "  print(name)  # this will print the local value\n",
        "  print(age)  # no local variable for age --> so it will print the global value\n",
        "  print(last_name)  # print local value\n",
        "\n",
        "\n",
        "my_func()"
      ]
    },
    {
      "cell_type": "code",
      "execution_count": 116,
      "metadata": {
        "id": "dY0MVSy6-KP2"
      },
      "outputs": [
        {
          "name": "stdout",
          "output_type": "stream",
          "text": [
            "Saif\n",
            "23\n"
          ]
        }
      ],
      "source": [
        "print(name)  # here the global value is printed because we are in the global scope\n",
        "print(age)  # global value is printed\n",
        "#print(last_name)  # error --> no global variable called last_name"
      ]
    },
    {
      "cell_type": "code",
      "execution_count": 117,
      "metadata": {
        "id": "mrjMgppxXlpL"
      },
      "outputs": [
        {
          "name": "stdout",
          "output_type": "stream",
          "text": [
            "B\n"
          ]
        }
      ],
      "source": [
        "def my_func():\n",
        "  last_name = \"B\"  # local only\n",
        "  return(last_name)  # print local value\n",
        "\n",
        "print(my_func())"
      ]
    },
    {
      "cell_type": "markdown",
      "metadata": {
        "id": "zSvkuXq-tM9W"
      },
      "source": [
        "Lambda Functions\n",
        "\n",
        "Lambda functions are small anonymous functions that can have any number of parameters but only one expression. They are written using the lambda keyword."
      ]
    },
    {
      "cell_type": "code",
      "execution_count": 110,
      "metadata": {
        "id": "yLHBHCX2rYun"
      },
      "outputs": [
        {
          "data": {
            "text/plain": [
              "6"
            ]
          },
          "execution_count": 110,
          "metadata": {},
          "output_type": "execute_result"
        }
      ],
      "source": [
        "add_one = lambda a : a + 1  # function called add_one, takes one argument (a) and returns (a + 1)\n",
        "\n",
        "\n",
        "add_one(5)"
      ]
    },
    {
      "cell_type": "markdown",
      "metadata": {
        "id": "efhOAKBAtP66"
      },
      "source": [
        "Nested Functions\n",
        "\n",
        "You can define a function inside another function. This is called a nested function or an inner function."
      ]
    },
    {
      "cell_type": "code",
      "execution_count": 111,
      "metadata": {
        "id": "iVHSkzretYjf"
      },
      "outputs": [
        {
          "name": "stdout",
          "output_type": "stream",
          "text": [
            "10\n",
            "Hello from the inner function!\n"
          ]
        }
      ],
      "source": [
        "def outer_function(text):\n",
        "    def inner_function():\n",
        "        print(text)\n",
        "    return inner_function()\n",
        "\n",
        "x= 10\n",
        "print(x)\n",
        "outer_function(\"Hello from the inner function!\")"
      ]
    },
    {
      "cell_type": "markdown",
      "metadata": {
        "id": "fHNNx0w2uFAi"
      },
      "source": [
        "# Quick Review"
      ]
    },
    {
      "cell_type": "code",
      "execution_count": 112,
      "metadata": {
        "id": "GVlJoFhDuMoU"
      },
      "outputs": [
        {
          "name": "stdout",
          "output_type": "stream",
          "text": [
            "22.0\n"
          ]
        }
      ],
      "source": [
        "def avg():\n",
        "  m1 = int(input(\"enter m1 \"))\n",
        "  m2 = int(input(\"enter m2 \"))\n",
        "  m3 = int(input(\"enter m3 \"))\n",
        "  print((m1 + m2 + m3 )/ 3)\n",
        "\n",
        "avg()"
      ]
    },
    {
      "cell_type": "code",
      "execution_count": 113,
      "metadata": {
        "id": "EgEOfMqLuOR3"
      },
      "outputs": [
        {
          "name": "stdout",
          "output_type": "stream",
          "text": [
            "22.0\n"
          ]
        }
      ],
      "source": [
        "def avg():\n",
        "  mark1=int(input(\"enter mark 1 \"))\n",
        "  mark2=int(input(\"enter mark 2 \"))\n",
        "  mark3=int(input(\"enter mark 3 \"))\n",
        "  return (mark1+mark2+mark3)/3\n",
        "\n",
        "print(avg())"
      ]
    },
    {
      "cell_type": "code",
      "execution_count": 114,
      "metadata": {
        "id": "TiQ20N-5uQJv"
      },
      "outputs": [
        {
          "name": "stdout",
          "output_type": "stream",
          "text": [
            "25.0\n"
          ]
        }
      ],
      "source": [
        "def avg(m1,m2,m3,m4):\n",
        "  return (m1+m2+m3+m4)/4\n",
        "\n",
        "print(avg(10,20,30,40))"
      ]
    },
    {
      "cell_type": "code",
      "execution_count": 115,
      "metadata": {
        "id": "1OuHBFPWu6G6"
      },
      "outputs": [
        {
          "name": "stdout",
          "output_type": "stream",
          "text": [
            "Wrong\n",
            "No marks\n"
          ]
        }
      ],
      "source": [
        "def print_average():\n",
        "    total = 0\n",
        "    count = 0\n",
        "\n",
        "    while True:\n",
        "        mark = input(\"Enter a mark\").upper()\n",
        "\n",
        "        if mark in 'Q':\n",
        "            break\n",
        "\n",
        "        try:\n",
        "            mark = float(mark)\n",
        "            total += mark\n",
        "            count += 1\n",
        "        except ValueError:\n",
        "            print(\"Wrong\")\n",
        "\n",
        "    if count == 0:\n",
        "        print(\"No marks\")\n",
        "    else:\n",
        "        average = total / count\n",
        "        print(f\"The average mark is: {average}\")\n",
        "\n",
        "print_average()"
      ]
    },
    {
      "cell_type": "markdown",
      "metadata": {
        "id": "UBni_zkv6N1C"
      },
      "source": [
        "# Great Job 🚀"
      ]
    }
  ],
  "metadata": {
    "colab": {
      "collapsed_sections": [
        "rfDvQ-eMTytb",
        "6n5V00RQUQUd",
        "MzBfOAA9atlS",
        "MGlbchPpf_Cj",
        "iKRrZocPMg1e"
      ],
      "provenance": []
    },
    "kernelspec": {
      "display_name": "base",
      "language": "python",
      "name": "python3"
    },
    "language_info": {
      "codemirror_mode": {
        "name": "ipython",
        "version": 3
      },
      "file_extension": ".py",
      "mimetype": "text/x-python",
      "name": "python",
      "nbconvert_exporter": "python",
      "pygments_lexer": "ipython3",
      "version": "3.12.3"
    }
  },
  "nbformat": 4,
  "nbformat_minor": 0
}
