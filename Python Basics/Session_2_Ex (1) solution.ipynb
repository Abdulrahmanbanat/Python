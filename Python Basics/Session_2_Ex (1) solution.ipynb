{
 "cells": [
  {
   "cell_type": "markdown",
   "metadata": {
    "id": "6876K7Oh2mL5"
   },
   "source": [
    "# Python Basics Exercises\n",
    "**By: Mhd Shadi Hasan**\n",
    "\n",
    "\n",
    "## EX 1 - Profit Calculator\n",
    "\n",
    "Write a Python program that the user can use to calculate total profits using the equation:\n",
    "\n",
    "$Total Profit = Total Revenue - Total Expenses$\n",
    "\n",
    "The program should do the following:\n",
    "1. Ask the user to insert their total revenue and total expenses values.\n",
    "2. Calculate the total profit.\n",
    "3. Display the three values in a tidy manner (e.g. Total Profit = 100 JOD)\n",
    "4. The program should be able to perform accurate calculations on any numerical values the user inputs.\n",
    "\n",
    "## EX 2 - Rate of Return Calculator\n",
    "\n",
    "It's the year 2024. Recent AI applications and innovations resulted in high demand on computer chips. This made the stock prices go up for chips companies. Company FANTASTIC CHIPS's stock price was $63.48 on Jan 1st, 2024. An investor wants a program that allows them to calculate what the rate of return will be at the end of 2024 for every expected future stock price that they input to the program. The rate of return equation is:\n",
    "\n",
    "$RR = \\frac{V_f - V_i}{V_i} \\times 100 \\%$\n",
    "\n",
    "The program should do the following:\n",
    "1. Ask the user to input their expectation of the future stock price.\n",
    "2. Calculate the rate of return.\n",
    "3. Print the rate of return as a percentage.\n",
    "4. Print True if their rate of return was positive and False if negative.\n",
    "\n",
    "## EX 3 - Strings\n",
    "\n",
    "Write a program that does the following:\n",
    "\n",
    "1. Ask the user to input their name, age, and city name.\n",
    "2. Print to the output:\n",
    "\n",
    "```\n",
    "Hello [user name],\n",
    "Happy birthday! You're [age] years old now :)\n",
    "Do you need to find a nice restaurant in [city name] to celebrate?\n",
    "```\n",
    "\n",
    "No matter how the user inserts this information, make sure that the user name and city name are both capitalized (i.e. only the first letter must be in uppercase).\n",
    "\n",
    "Use a single `print()` command. Hint: check the python print function documentation to figure out how to do it ;)\n",
    "\n",
    "**P.S. ALL CODE MUST BE CLEAN, READABLE, WELL EXPLAINED, AND FOLLOWS THE PEP 8 STYLE GUIDE.**\n",
    "\n",
    "Happy coding!!"
   ]
  },
  {
   "cell_type": "code",
   "execution_count": 26,
   "metadata": {
    "id": "k5Q3ZB562YWf"
   },
   "outputs": [
    {
     "name": "stdin",
     "output_type": "stream",
     "text": [
      "What is your total revenue:  1556\n",
      "What is your total expenses:  1100\n"
     ]
    },
    {
     "name": "stdout",
     "output_type": "stream",
     "text": [
      "Total Revenue =  1556 JOD\n",
      "Total Expenses =  1100  JOD\n",
      "Total Profit =  456.0  JOD\n"
     ]
    }
   ],
   "source": [
    "# EX 1\n",
    "\n",
    "total_revenue = input(\"What is your total revenue: \")  # total revenue input\n",
    "total_expenses = input(\"What is your total expenses: \")  # total expenses input\n",
    "\n",
    "\n",
    "total_profit = float(total_revenue) - float(total_expenses) #calculation to calculate  total profit\n",
    "\n",
    "# Display the results\n",
    "print(\"Total Revenue = \",total_revenue, \"JOD\")\n",
    "print(\"Total Expenses = \",total_expenses,\" JOD\")\n",
    "print(\"Total Profit = \",total_profit,\" JOD\")"
   ]
  },
  {
   "cell_type": "code",
   "execution_count": 30,
   "metadata": {
    "id": "LnkbB5U2D0Ss"
   },
   "outputs": [
    {
     "name": "stdin",
     "output_type": "stream",
     "text": [
      "Enter your expected future stock price :  110\n"
     ]
    },
    {
     "name": "stdout",
     "output_type": "stream",
     "text": [
      "Rate of Return: 73.28292375551355 %\n",
      "Is the return positive? True\n"
     ]
    }
   ],
   "source": [
    "# EX 2\n",
    "Vi = 63.48  # Initial stock price \n",
    "Vf = float(input(\"Enter your expected future stock price : \"))  # Future stock price \n",
    "\n",
    "RR = ((Vf - Vi) / Vi) * 100 #calculation to calculate  rate of return\n",
    "\n",
    "# Display the results\n",
    "print(\"Rate of Return:\", RR, \"%\")\n",
    "print(\"Is the return positive?\", RR > 0)"
   ]
  },
  {
   "cell_type": "code",
   "execution_count": 32,
   "metadata": {
    "id": "rFN-tHj-D1tt"
   },
   "outputs": [
    {
     "name": "stdin",
     "output_type": "stream",
     "text": [
      "Enter your name:  Abdulrahman\n",
      "Enter your age:  22\n",
      "Enter your city name:  Amman\n"
     ]
    },
    {
     "name": "stdout",
     "output_type": "stream",
     "text": [
      "Hello Abdulrahman,\n",
      "Happy birthday! You're 22 years old now :)\n",
      "Do you need to find a nice restaurant in Amman to celebrate?\n"
     ]
    }
   ],
   "source": [
    "# EX 3\n",
    "name = input(\"Enter your name: \")\n",
    "age = input(\"Enter your age: \")\n",
    "city_name = input(\"Enter your city name: \")\n",
    "\n",
    "print(\"Hello \" + name + \",\\nHappy birthday! You're \" + age + \" years old now :)\\nDo you need to find a nice restaurant in \" + city_name + \" to celebrate?\")"
   ]
  },
  {
   "cell_type": "code",
   "execution_count": null,
   "metadata": {},
   "outputs": [],
   "source": []
  }
 ],
 "metadata": {
  "colab": {
   "provenance": []
  },
  "kernelspec": {
   "display_name": "Python [conda env:base] *",
   "language": "python",
   "name": "conda-base-py"
  },
  "language_info": {
   "codemirror_mode": {
    "name": "ipython",
    "version": 3
   },
   "file_extension": ".py",
   "mimetype": "text/x-python",
   "name": "python",
   "nbconvert_exporter": "python",
   "pygments_lexer": "ipython3",
   "version": "3.12.3"
  }
 },
 "nbformat": 4,
 "nbformat_minor": 4
}
